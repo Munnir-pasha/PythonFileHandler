{
  "cells": [
    {
      "cell_type": "markdown",
      "metadata": {
        "id": "KEk36hiNTbfE"
      },
      "source": [
        "# Introduction\n",
        "\n",
        "Accurate and efficient management of product information is essential for the success of e-commerce businesses. This information enables informed decision-making and facilitates effective marketing strategies. However, traditional methods of handling product data may be cumbersome and prone to errors. They often involve manual entry and maintenance processes, leading to inconsistencies and inefficiencies. By harnessing the capabilities of Python programming, we can develop a solution that automates tasks such as adding, reading, updating, and deleting product information. This streamlined approach not only enhances data accuracy and reliability but also improves operational efficiency.\n",
        "\n",
        "The kind of operations that we are going to focus on have an acronym: CRUD (Create, Retrieve, Update, and Delete)."
      ]
    },
    {
      "cell_type": "markdown",
      "source": [
        "**CRUD** operations represent the four basic functions that are essential to interact with a database or a data storage system. The acronym CRUD stands for Create, Read, Update, and Delete. These operations form the foundation of most applications that store and manipulate data. Understanding CRUD is crucial for developers working on web, software, and database applications. Here's a brief overview of each operation:\n",
        "\n",
        "- **Create**: This operation is used to add new records to a database. It involves inserting data into a database table or a data structure. For example, adding a new user to a user database is a Create operation.\n",
        "\n",
        "- **Read**: The Read operation is used to retrieve or read data from a database. It involves querying the database to fetch information based on certain criteria. For example, fetching all the information about a product.\n",
        "\n",
        "- **Update**: This operation is used to modify existing data in a database. It involves updating one or more fields of a database record. For example, changing a user's email address in a user database is an Update operation.\n",
        "\n",
        "- **Delete**: The Delete operation is used to remove records from a database. It involves deleting one or more records from a database table. For example, removing a user from a user database is a Delete operation.\n",
        "\n",
        "These operations are vital for managing data effectively in any application. They allow applications to perform basic data management tasks, ensuring that the data is accurate, consistent, and accessible.\n",
        "\n"
      ],
      "metadata": {
        "id": "yAXrIqlKjthg"
      }
    },
    {
      "cell_type": "markdown",
      "metadata": {
        "id": "_bIkNbC2z8oL"
      },
      "source": [
        "# Problem Statement\n",
        "Your task is to develop a product information management system for an e-commerce platform that facilitates the creation, retrieval, updation, and deletion of product details, sales data, and descriptions.\n",
        "\n",
        "To solve this, you will first load the whole dataset into the computer's memory and provide the user's choice to choose between the CRUD operations. When the user has made a choice, you will perform the chosen operation by allowing the user to input the required information. When the user is done with his task and chooses to exit the program, you will save the new files in the same folder by overwriting the files.\n",
        "\n",
        "# Data Description\n",
        "The dataset for this project has been provided in the *filehandler_data.zip* file. It containes data about products for which the unique ID provided is the stock keeping unit or SKU for short. The ZIP file contains a structured collection of sales data and product information organized into a main folder with three key components:\n",
        "\n",
        "- **Sales Data** (*sales_data.csv*): A *CSV* file that includes sales data for various products over a 14-day period. Each row corresponds to a different product, identified by a *Product_SKU*. The columns *Day1* through *Day14* represent the sales figures for each consecutive day.\n",
        "\n",
        "- **Product Descriptions** (*product_descriptions* folder): This folder contains text files, each corresponding to a specific product identified by SKU in the filename (e.g., *description_AISJDKFJW93NJ.txt*). These files provide descriptive information about the products.\n",
        "\n",
        "- **Product Details** (*product_details* folder): This folder includes *JSON* files, again with filenames corresponding to product SKUs (e.g., *details_AISJDKFJW93NJ.json*). These files contain detailed attributes of the products, such as specifications, category, pricing, etc.\n",
        "\n",
        "This dataset is designed for analyzing daily sales performance of products, supplemented with detailed product information and descriptions to allow for a comprehensive analysis of sales trends in relation to product attributes and descriptions.\n"
      ]
    },
    {
      "cell_type": "markdown",
      "metadata": {
        "id": "TCi_8EQ_SKh2"
      },
      "source": [
        "# Outline\n",
        "The overall objective of this project is to create a system for managing product information in an e-commerce platform. The different stages involved in the process are outlined below:\n",
        "\n",
        "- Stage 1 - Setup\n",
        "    - Task 1 - Import required modules\n",
        "    - Task 2 - Load the data\n",
        "    - Task 3 - Explore the data\n",
        "- Stage 2 - Create\n",
        "    - Task 4 - Add sales data\n",
        "    - Task 5 - Add product details\n",
        "    - Task 6 - Add product description\n",
        "    - Task 7 - Create function\n",
        "- Stage 3 - Read\n",
        "    - Task 8  - Display sales data\n",
        "    - Task 9  - Display product details\n",
        "    - Task 10 - Display product descriptions\n",
        "    - Task 11 - Read function\n",
        "- Stage 4 - Update\n",
        "    - Task 12 - Update sales data\n",
        "    - Task 13 - Update product details\n",
        "    - Task 14 - Update product description\n",
        "    - Task 15 - Update function\n",
        "- Stage 5 - Delete\n",
        "    - Task 16 - Delete function\n",
        "- Stage 6 - Bringing it all together\n",
        "    - Task 17 - Save data to disk\n",
        "    - Task 18 - Create a user menu"
      ]
    },
    {
      "cell_type": "markdown",
      "metadata": {
        "id": "nSDjItPDapX4"
      },
      "source": [
        "# Stage 1 - Setup\n",
        "In this stage, you will set up the environment for this assignment by loading the required modules and files. You will explore the files by displaying their content. You will achieve all of this by completing the following three tasks:\n",
        "- Task 1 - Import required modules\n",
        "- Task 2 - Load the data\n",
        "- Task 3 - Explore the data"
      ]
    },
    {
      "cell_type": "markdown",
      "metadata": {
        "id": "7fwAly7Kc9ei"
      },
      "source": [
        "## Task 1 - Import required modules"
      ]
    },
    {
      "cell_type": "markdown",
      "metadata": {
        "id": "mWz3KDiuotgp"
      },
      "source": [
        "### Description\n",
        "In this task, you will import all the necessary modules and packages required for performing various operations in the project."
      ]
    },
    {
      "cell_type": "markdown",
      "metadata": {
        "id": "1IfJUOrG0JBZ"
      },
      "source": [
        "### Requirements\n",
        "Write code to import the following packages:\n",
        "\n",
        "- For handling raw data files\n",
        "- For working with JSON files\n",
        "- For working with CSV files\n",
        "- For printing Python data structures in an organized manner"
      ]
    },
    {
      "cell_type": "markdown",
      "metadata": {
        "id": "tDTVcD_V0WVh"
      },
      "source": [
        "### Recommendations\n",
        "- You can ask ChatGPT about the libraries that will be required to perform the given tasks.\n",
        "\n",
        "\n"
      ]
    },
    {
      "cell_type": "markdown",
      "metadata": {
        "id": "3hjXLR-lwERP"
      },
      "source": [
        "First, import the required packages."
      ]
    },
    {
      "cell_type": "code",
      "execution_count": 1,
      "metadata": {
        "id": "uKKJxfEj6o1C"
      },
      "outputs": [],
      "source": [
        "# Use this cell to import all the required packages and methods\n",
        "\n",
        "#### YOUR CODE HERE ####\n",
        "import os\n",
        "import json\n",
        "import csv\n",
        "import pprint\n"
      ]
    },
    {
      "cell_type": "code",
      "source": [
        "from google.colab import drive\n",
        "drive.mount('/content/drive')"
      ],
      "metadata": {
        "colab": {
          "base_uri": "https://localhost:8080/"
        },
        "id": "AQOtgx2DGP3c",
        "outputId": "9f5ade23-d3f5-457b-a77b-1ab9e857633a"
      },
      "execution_count": 2,
      "outputs": [
        {
          "output_type": "stream",
          "name": "stdout",
          "text": [
            "Mounted at /content/drive\n"
          ]
        }
      ]
    },
    {
      "cell_type": "markdown",
      "metadata": {
        "id": "CK1NbJlcow44"
      },
      "source": [
        "### Checklist\n",
        "\n",
        "- Imported the required packages\n"
      ]
    },
    {
      "cell_type": "markdown",
      "metadata": {
        "id": "BOLRp-Ydph2X"
      },
      "source": [
        "## Task 2 - Load the data"
      ]
    },
    {
      "cell_type": "markdown",
      "metadata": {
        "id": "n3LqSPrspl8b"
      },
      "source": [
        "### Description\n",
        "In this task, you will write a function that ensures that the necessary files are loaded into the environment. To index the data, you will use a unique identifier called SKU.\n",
        "\n",
        "This includes loading sales data from a CSV file, product details from JSON files, and product descriptions from text files. We recommend that you either use Jupyter Notebook or Google Colab to build and execute your code."
      ]
    },
    {
      "cell_type": "markdown",
      "metadata": {
        "id": "x1pJXGbJqeIy"
      },
      "source": [
        "### Requirements\n",
        "- In case you are using Google Colab,\n",
        "    - import `drive` from `google.colab` and mount your Google Drive or\n",
        "    - import `files` from `google.colab`.\n",
        "- In case you are using Jupyter Notebook, please make sure that your files and folders are all in the right place.\n",
        "- Unzip the data and save the location of the main folder in a variable called *main_folder_address*.\n",
        "- Define a function `load_data()`:\n",
        "    - The function must read\n",
        "      - Sales data from *sales_data.csv* file,\n",
        "      - Product details from JSON files in the *product_details* folder, and\n",
        "      - Product descriptions from the TXT files in *product_description* folder\n",
        "      \n",
        "    - Once the data has been loaded, it must be stored in three dictionaries, one for sales data, another for product details, and another for product descriptions.\n",
        "    - The three dictionaries should have the product SKU as keys and:\n",
        "        - In the `product_details` dictionary, the values should also be dictionaries containing detailed attributes of the products, such as specifications, category, pricing, etc.\n",
        "        - In the `sales_data` dictionary, the values should be lists consisting of the sales data from the last 14 days.\n",
        "        - In the `product_descriptions` dictionary, the values should be strings in which the product description is saved.\n",
        "    - It should have the following keyword argument:\n",
        "        - *mainfolder*: A string that describes the address of the parent data folder in the memory.\n",
        "    - The functions should return a tuple containing three dictionaries:\n",
        "        - `product_details`: A dictionary of dictionaries where keys are product SKUs (extracted from the filenames of the JSON files) and values are product details loaded from the JSON files.\n",
        "        - `sales_data`: A dictionary where keys are product SKUs (from the CSV file) and values are lists of quantities corresponding to sales data.\n",
        "        - `product_descriptions`: A dictionary where keys are product SKUs (extracted from the filenames of the TXT files)\n",
        "        and values are product descriptions loaded from TXT files."
      ]
    },
    {
      "cell_type": "markdown",
      "metadata": {
        "id": "5lfU3Pq-67sn"
      },
      "source": [
        "### Recommendations\n",
        "- If you are using Google Colab:\n",
        "  - Upload the zip file containing the files in Google Drive or upload the zip file directly to the Google Colab runtime.\n",
        "    - Then unzip it using `unzip` shell command which you can access using the `!` (exclamation mark) character.\n",
        "  - Once you have mounted Google Drive into your Google Colab VM or uploaded the zip file directly to the Google Colab runtime.\n",
        "    - You can use the *Files* section on the left to access the filesystem. You can right click on a file or folder to copy its path. This will be useful while specifying the source file in the `unzip` shell command.\n",
        "  - You will need to pass the location of the main folder into the `load_data()` function to load *sales_data.csv* file and the files in *product_details* and *product_description* folders.\n",
        "- Inside the `load_data()` function, you can:\n",
        "    - use the `csv.DictReader()` method to read the *sales_data.csv* file.\n",
        "    - use the `os.listdir()` method to obtain the names of the files and folders within a particular folder.\n",
        "    - use `os.path.join()` to construct file paths.\n",
        "    - use the `json.load()` method to load JSON files.\n",
        "    - use the `open()` function to load the text files.\n",
        "-  As you need to use the SKUs as keys in all three dictionaries, you can ask ChatGPT on how to extract the SKU values in all three cases.\n",
        "    - In *sales_data.csv* they have been saved in a column titled *Product_SKU*\n",
        "    - For the other two, you need to extract the SKU from the file name. Try using the in-built string function `split()`.\n",
        "    - Provide the data description and requirements to ChatGPT along with the libraries that you are using and ask it to generate code for the function.\n",
        "    - If you get stuck somewhere, you can ask ChatGPT to explain the code to you and you can make edits as required.\n"
      ]
    },
    {
      "cell_type": "markdown",
      "metadata": {
        "id": "VQRLEoiZ-QxY"
      },
      "source": [
        "First, if you are using Google Colab, mount Google Drive to your VM. If not, skip and comment out this cell."
      ]
    },
    {
      "cell_type": "code",
      "execution_count": null,
      "metadata": {
        "id": "SKYzyofLO8KU"
      },
      "outputs": [],
      "source": [
        "# Use this cell to write your code for mounting your Google Drive\n",
        "# Note: If you are not using Google Colab, please skip this cell\n",
        "\n",
        "# In case you are using Google Colab, mount your Google Drive before moving on\n",
        "# from google.colab import drive\n",
        "# drive.mount('/content/drive', force_remount = True)"
      ]
    },
    {
      "cell_type": "markdown",
      "metadata": {
        "id": "EChyWcmq-5Vi"
      },
      "source": [
        "If you are using Colab, after mounting the drive you need to unzip the files to extract all the images inside it. Note that you don't need to perform this step more than once, so we recommend that you comment out your code for this step once it has executed."
      ]
    },
    {
      "cell_type": "code",
      "execution_count": 3,
      "metadata": {
        "id": "-6mxIHoPO7Um",
        "colab": {
          "base_uri": "https://localhost:8080/"
        },
        "outputId": "f1439846-059d-41e8-bc3a-d88599c5e4da"
      },
      "outputs": [
        {
          "output_type": "stream",
          "name": "stdout",
          "text": [
            "Archive:  /content/drive/MyDrive/Python_Assignment_Project_1/LW_Course_Project_FileHandler/mainfolder.zip\n",
            "   creating: mainfolder/product_descriptions/\n",
            "  inflating: mainfolder/product_descriptions/AISJDKFJW93NJ.txt  \n",
            "  inflating: mainfolder/product_descriptions/DJKFIEI432FIE.txt  \n",
            "  inflating: mainfolder/product_descriptions/GGOENEBJ079499.txt  \n",
            "  inflating: mainfolder/product_descriptions/HJSKNWK429DJE.txt  \n",
            "  inflating: mainfolder/product_descriptions/JFKL3940NFKLJ.txt  \n",
            "  inflating: mainfolder/product_descriptions/LKDFJ49LSDJKL.txt  \n",
            "  inflating: mainfolder/product_descriptions/MWKDI3JFK39SL.txt  \n",
            "  inflating: mainfolder/product_descriptions/NEKFJOWE9FDIW.txt  \n",
            "  inflating: mainfolder/product_descriptions/OWEJL398FWJLK.txt  \n",
            "  inflating: mainfolder/product_descriptions/XPLFJW2490XJN.txt  \n",
            "   creating: mainfolder/product_details/\n",
            "  inflating: mainfolder/product_details/AISJDKFJW93NJ.json  \n",
            "  inflating: mainfolder/product_details/DJKFIEI432FIE.json  \n",
            "  inflating: mainfolder/product_details/GGOENEBJ079499.json  \n",
            "  inflating: mainfolder/product_details/HJSKNWK429DJE.json  \n",
            "  inflating: mainfolder/product_details/JFKL3940NFKLJ.json  \n",
            "  inflating: mainfolder/product_details/LKDFJ49LSDJKL.json  \n",
            "  inflating: mainfolder/product_details/MWKDI3JFK39SL.json  \n",
            "  inflating: mainfolder/product_details/NEKFJOWE9FDIW.json  \n",
            "  inflating: mainfolder/product_details/OWEJL398FWJLK.json  \n",
            "  inflating: mainfolder/product_details/XPLFJW2490XJN.json  \n",
            "  inflating: mainfolder/sales_data.csv  \n"
          ]
        }
      ],
      "source": [
        "# Use this cell to write your code for unzipping the data and storing it in Google Drive\n",
        "# Note: If you are not using Google Colab, please skip this cell\n",
        "# Note: You can comment out this cell after running it once\n",
        "\n",
        "# Unzip your files and store them in your drive\n",
        "# !unzip /content/drive/MyDrive/File_Handler_Project/filehandler_data.zip\n",
        "!unzip /content/drive/MyDrive/Python_Assignment_Project_1/LW_Course_Project_FileHandler/mainfolder.zip"
      ]
    },
    {
      "cell_type": "markdown",
      "metadata": {
        "id": "LeX06K8AFxnC"
      },
      "source": [
        "You can also upload files to the Google Colab runtime environment without mounting Google Drive. In this case so you will always be in the same *path/directory* inside your Google Colab runtime. Files will be saved into your runtime and not into your Google Drive.\n",
        "The files you uploaded will be available until you delete the runtime."
      ]
    },
    {
      "cell_type": "code",
      "execution_count": null,
      "metadata": {
        "id": "eupwHKLZEE3b"
      },
      "outputs": [],
      "source": [
        "# Use this cell to write your code for uploading the zip file\n",
        "# Note: If you are not using Google Colab, please skip this cell\n",
        "\n",
        "# Upload the zip file to Google Colab runtime\n",
        "# from google.colab import files\n",
        "# uploaded = files.upload()"
      ]
    },
    {
      "cell_type": "markdown",
      "metadata": {
        "id": "ze-qtCwAGlhp"
      },
      "source": [
        "After uploading your zip file to Google Colab runtime you need to unzip the files to extract all the files inside it."
      ]
    },
    {
      "cell_type": "code",
      "execution_count": null,
      "metadata": {
        "id": "JpKP8qUVuC2n"
      },
      "outputs": [],
      "source": [
        "# Use this cell to write your code for unzipping the data and storing it in Google Colab runtime\n",
        "# Note: If you are not using Google Colab, please skip this cell\n",
        "# Note: You can comment out this cell after running it once\n",
        "\n",
        "# Unzip your files and store them in Google Colab runtime\n",
        "# !unzip /content/filehandler_data.zip"
      ]
    },
    {
      "cell_type": "markdown",
      "metadata": {
        "id": "DiYKN_QJlRBE"
      },
      "source": [
        "Now define the `load_data()` function."
      ]
    },
    {
      "cell_type": "code",
      "execution_count": 4,
      "metadata": {
        "id": "lh8skyqy7Qb6"
      },
      "outputs": [],
      "source": [
        "main_folder = '/content/mainfolder'\n",
        "def load_data(main_folder):\n",
        "    \"\"\"\n",
        "    Load product details, sales data, and product descriptions from files within the specified zip file.\n",
        "\n",
        "    Args:\n",
        "        zip_file (str): The path to the zip file containing the dataset.\n",
        "\n",
        "    Returns:\n",
        "        tuple: A tuple containing three dictionaries:\n",
        "            - product_details (dict): A dictionary of dictionaries where keys are product SKUs (extracted from the filenames of the JSON files)\n",
        "              and values are product details loaded from the JSON files.\n",
        "            - sales_data (dict): A dictionary where keys are product SKUs (from the CSV file) and values are lists\n",
        "              of quantities corresponding to sales data.\n",
        "            - product_descriptions (dict): A dictionary where keys are product SKUs (extracted from the filenames of the TXT files)\n",
        "              and values are product descriptions loaded from TXT files.\n",
        "    \"\"\"\n",
        "\n",
        "#### YOUR CODE HERE ####\n",
        "    product_details = {}\n",
        "    sales_data = {}\n",
        "    product_descriptions = {}\n",
        "\n",
        "# Load product details from JSON files\n",
        "    json_folder = os.path.join(main_folder, \"product_details\")\n",
        "    for filename in os.listdir(json_folder):\n",
        "        if filename.endswith(\".json\"):\n",
        "            sku = os.path.splitext(filename)[0]\n",
        "            with open(os.path.join(json_folder, filename), \"r\") as json_file:\n",
        "                product_details[sku] = json.load(json_file)\n",
        "\n",
        "# Load sales data from CSV file\n",
        "    csv_file_path = os.path.join(main_folder, \"sales_data.csv\")\n",
        "    with open(csv_file_path, \"r\") as csvfile:\n",
        "        reader = csv.reader(csvfile)\n",
        "        next(reader)  # Skip header\n",
        "        for row in reader:\n",
        "            sku, *quantities = row\n",
        "            sales_data[sku] = [int(quantity) for quantity in quantities]\n",
        "\n",
        "    # Load product descriptions from TXT files\n",
        "    txt_folder = os.path.join(main_folder, \"product_descriptions\")\n",
        "    for filename in os.listdir(txt_folder):\n",
        "        if filename.endswith(\".txt\"):\n",
        "            sku = os.path.splitext(filename)[0]\n",
        "            with open(os.path.join(txt_folder, filename), \"r\") as txt_file:\n",
        "                product_descriptions[sku] = txt_file.read()\n",
        "\n",
        "    return product_details, sales_data, product_descriptions\n",
        "\n",
        "# Load data\n",
        "product_details, sales_data, product_descriptions = load_data(main_folder)\n"
      ]
    },
    {
      "cell_type": "markdown",
      "metadata": {
        "id": "bRjwNJj67LP_"
      },
      "source": [
        "Check your code here"
      ]
    },
    {
      "cell_type": "code",
      "execution_count": 5,
      "metadata": {
        "id": "mkeH5Ba17Qmv",
        "colab": {
          "base_uri": "https://localhost:8080/"
        },
        "outputId": "588d4509-dcf6-4a77-ade7-74686dc51a84"
      },
      "outputs": [
        {
          "output_type": "stream",
          "name": "stdout",
          "text": [
            "Product Details:\n",
            "SKU: HJSKNWK429DJE\n",
            "Details:\n",
            "  product_name: Wireless Earbuds\n",
            "  brand: SoundSync\n",
            "  model: TunePro-2022\n",
            "  specifications: Bluetooth 5.0, 20 hours battery life, Touch controls\n",
            "  price: $89.99\n",
            "  availability: In stock\n",
            "\n",
            "SKU: GGOENEBJ079499\n",
            "Details:\n",
            "  product_name: Smartphone\n",
            "  brand: XYZ Electronics\n",
            "  model: ABC-2000\n",
            "  specifications: 6.5-inch display, 128GB storage, 16MP camera\n",
            "  price: $499.99\n",
            "  availability: In stock\n",
            "\n",
            "SKU: AISJDKFJW93NJ\n",
            "Details:\n",
            "  product_name: Wall Art Print\n",
            "  brand: ArtCraft\n",
            "  model: NatureCanvas-1001\n",
            "  specifications: Canvas print, Ready to hang\n",
            "  price: $49.99\n",
            "  availability: In stock\n",
            "\n",
            "SKU: NEKFJOWE9FDIW\n",
            "Details:\n",
            "  product_name: Board Game\n",
            "  brand: FamilyFun\n",
            "  model: GameNight-2022\n",
            "  specifications: 2-6 players, Ages 8 and up\n",
            "  price: $29.99\n",
            "  availability: In stock\n",
            "\n",
            "SKU: OWEJL398FWJLK\n",
            "Details:\n",
            "  product_name: Yoga Mat\n",
            "  brand: ZenFitness\n",
            "  model: EcoMat-500\n",
            "  specifications: Non-slip, 6mm thickness, Eco-friendly material\n",
            "  price: $19.99\n",
            "  availability: In stock\n",
            "\n",
            "SKU: XPLFJW2490XJN\n",
            "Details:\n",
            "  product_name: Robot Vacuum Cleaner\n",
            "  brand: CleanTech\n",
            "  model: AutoSweep-9000\n",
            "  specifications: Smart navigation, HEPA filter, 90 minutes runtime\n",
            "  price: $249.99\n",
            "  availability: In stock\n",
            "\n",
            "SKU: MWKDI3JFK39SL\n",
            "Details:\n",
            "  product_name: Fictional Novel\n",
            "  brand: BestBooks\n",
            "  model: None\n",
            "  specifications: Paperback, 300 pages\n",
            "  price: $14.99\n",
            "  availability: In stock\n",
            "\n",
            "SKU: JFKL3940NFKLJ\n",
            "Details:\n",
            "  product_name: Resistance Bands Set\n",
            "  brand: FitFlex\n",
            "  model: StrengthPro-300\n",
            "  specifications: 5 bands, Varying resistance levels, Portable\n",
            "  price: $34.99\n",
            "  availability: In stock\n",
            "\n",
            "SKU: LKDFJ49LSDJKL\n",
            "Details:\n",
            "  product_name: Anti-Aging Face Cream\n",
            "  brand: GlowBeauty\n",
            "  model: AgeDefy-300\n",
            "  specifications: Natural ingredients, Hydrating formula\n",
            "  price: $39.99\n",
            "  availability: In stock\n",
            "\n",
            "SKU: DJKFIEI432FIE\n",
            "Details:\n",
            "  product_name: Men's Running Shoes\n",
            "  brand: RunFit\n",
            "  model: SpeedX-500\n",
            "  specifications: Size 10, Lightweight design, Breathable material\n",
            "  price: $79.99\n",
            "  availability: In stock\n",
            "\n",
            "Sales Data:\n",
            "SKU: AISJDKFJW93NJ, Quantities: [10, 12, 15, 18, 20, 22, 25, 28, 26, 30, 32, 29, 27, 24]\n",
            "SKU: DJKFIEI432FIE, Quantities: [8, 10, 12, 15, 20, 18, 14, 13, 17, 10, 8, 11, 14, 16]\n",
            "SKU: GGOENEBJ079499, Quantities: [15, 18, 22, 25, 28, 20, 17, 23, 19, 21, 24, 27, 18, 20]\n",
            "SKU: HJSKNWK429DJE, Quantities: [30, 32, 35, 38, 40, 42, 45, 48, 50, 52, 55, 53, 49, 47]\n",
            "SKU: JFKL3940NFKLJ, Quantities: [18, 20, 22, 25, 28, 30, 32, 35, 38, 36, 33, 29, 26, 24]\n",
            "SKU: LKDFJ49LSDJKL, Quantities: [25, 28, 30, 32, 35, 38, 42, 40, 37, 34, 36, 31, 29, 27]\n",
            "SKU: MWKDI3JFK39SL, Quantities: [30, 35, 40, 45, 50, 42, 37, 38, 41, 36, 33, 39, 40, 44]\n",
            "SKU: NEKFJOWE9FDIW, Quantities: [12, 15, 18, 20, 22, 24, 21, 23, 25, 28, 30, 27, 26, 29]\n",
            "SKU: OWEJL398FWJLK, Quantities: [20, 22, 25, 28, 30, 32, 35, 38, 36, 33, 29, 26, 24, 27]\n",
            "SKU: XPLFJW2490XJN, Quantities: [5, 8, 9, 12, 15, 10, 14, 16, 20, 18, 22, 25, 19, 21]\n",
            "Product Descriptions:\n",
            "SKU: JFKL3940NFKLJ\n",
            "Description:\n",
            "Embrace versatility in your workouts with FitFlex's StrengthPro-300 Resistance Bands Set.\n",
            "With 5 bands offering varying resistance levels and portability, this set is your go-to for effective strength training.\n",
            "Available in Red, Yellow, and Blue, it caters to different fitness levels and adds a dynamic dimension to your exercise routine.\n",
            "\n",
            "SKU: MWKDI3JFK39SL\n",
            "Description:\n",
            "Immerse yourself in the world of storytelling with BestBooks' Fictional Novel.\n",
            "This paperback, spanning 300 pages, promises a captivating journey through the pages of an engaging narrative.\n",
            "Ideal for avid readers seeking an escape, this novel, with a 4.6/5 stars rating, is a testament to its ability to weave a compelling tale that keeps you hooked until the last page.\n",
            "\n",
            "SKU: OWEJL398FWJLK\n",
            "Description:\n",
            "Elevate your yoga practice with ZenFitness' EcoMat-500 Yoga Mat.\n",
            "Featuring a non-slip surface, 6mm thickness, and eco-friendly materials, this high-quality mat provides the perfect foundation for your workouts.\n",
            "Available in Purple, Green, and Blue, it not only enhances your comfort but also adds a touch of serenity to your exercise routine.\n",
            "\n",
            "SKU: HJSKNWK429DJE\n",
            "Description:\n",
            "Immerse yourself in superior audio quality with SoundSync's TunePro-2022 Wireless Earbuds.\n",
            "Featuring Bluetooth 5.0, 20 hours of battery life, and touch controls, these earbuds deliver a seamless and immersive listening experience.\n",
            "Available in Black and White, they combine style with functionality for music lovers on the go. \n",
            "With a 4.7/5 stars rating, they stand out as a top choice in the realm of wireless audio.\n",
            "\n",
            "SKU: AISJDKFJW93NJ\n",
            "Description:\n",
            "Transform your living space with ArtCraft's NatureCanvas-1001 Wall Art Print.\n",
            "This canvas print, ready to hang, brings the beauty of nature into your home.\n",
            "With dimensions of 16 x 20 inches and a 4.6/5 stars rating, it's a stunning addition to your decor, creating a focal point that captures attention and sparks conversation.\n",
            "\n",
            "SKU: GGOENEBJ079499\n",
            "Description:\n",
            "Dive into the future with the XYZ Electronics Smartphone, model ABC-2000.\n",
            "Boasting a 6.5-inch display, 128GB storage, and a 16MP camera, this powerful device redefines the smartphone experience.\n",
            "With a sleek design and available in Black, Silver, and Blue, it combines cutting-edge technology with style, ensuring you stay connected in the most sophisticated way possible.\n",
            "\n",
            "SKU: DJKFIEI432FIE\n",
            "Description:\n",
            "Elevate your running experience with the RunFit SpeedX-500 Men's Running Shoes.\n",
            "Designed for performance, these shoes feature a lightweight design, breathable material, and are available in vibrant Red, Blue, and classic Black.\n",
            "Whether you're a seasoned runner or just starting, these shoes provide comfort and support for every stride, ensuring you reach new milestones effortlessly.\n",
            "\n",
            "SKU: NEKFJOWE9FDIW\n",
            "Description:\n",
            "Unleash the fun with FamilyFun's GameNight-2022 Board Game.\n",
            "Designed for 2-6 players and suitable for ages 8 and up, this exciting game promises laughter and bonding moments for the entire family.\n",
            "With a 4.4/5 stars rating, it's a testament to its ability to turn any ordinary night into an extraordinary game night filled with friendly competition and shared joy.\n",
            "\n",
            "SKU: XPLFJW2490XJN\n",
            "Description:\n",
            "Introducing the CleanTech AutoSweep-9000 Robot Vacuum Cleaner – your smart companion for automated cleaning.\n",
            "With smart navigation, a HEPA filter, and a runtime of 90 minutes, this efficient device takes care of your cleaning needs.\n",
            "Available in White and Silver, it blends seamlessly into your home, making cleanliness a hassle-free experience.\n",
            "\n",
            "SKU: LKDFJ49LSDJKL\n",
            "Description:\n",
            "Rediscover youthful radiance with GlowBeauty's AgeDefy-300 Anti-Aging Face Cream.\n",
            "Formulated with natural ingredients and a hydrating formula, this skincare essential rejuvenates and nourishes your skin, leaving you with a vibrant and refreshed complexion.\n",
            "With a stellar 4.7/5 stars rating, it's a must-have for those embracing the journey to ageless beauty.\n",
            "\n"
          ]
        }
      ],
      "source": [
        "# Print product details\n",
        "print(\"Product Details:\")\n",
        "for sku, details in product_details.items():\n",
        "    print(f\"SKU: {sku}\")\n",
        "    print(\"Details:\")\n",
        "    for key, value in details.items():\n",
        "        print(f\"  {key}: {value}\")\n",
        "    print()\n",
        "\n",
        "# Print sales data\n",
        "print(\"Sales Data:\")\n",
        "for sku, quantities in sales_data.items():\n",
        "    print(f\"SKU: {sku}, Quantities: {quantities}\")\n",
        "\n",
        "# Print product descriptions\n",
        "print(\"Product Descriptions:\")\n",
        "for sku, description in product_descriptions.items():\n",
        "    print(f\"SKU: {sku}\")\n",
        "    print(\"Description:\")\n",
        "    print(description)\n",
        "    print()\n"
      ]
    },
    {
      "cell_type": "markdown",
      "metadata": {
        "id": "Rf3FIRGg_G2b"
      },
      "source": [
        "### Checklist\n",
        "- Defined the `load_data()` function which takes in the given keyword arguments and returns the given variables.\n",
        "- Used the `load_data()` function to load data in to `sales_data, product_details` and `product_descriptions`\n",
        "- `sales_data, product_details` and `product_descriptions` are of the type `dict`.\n",
        "- Items in `sales_data, product_details`, and `product_descriptions` are as follows:\n",
        "    - `sales_data` contains product SKUs mapped to lists of integers representing the amount of product sold per day.\n",
        "    - `product_details` contains product SKUs mapped to dictionaries containing various details such as product name, brand, model, specifications, price, and availability.\n",
        "    - `product_descriptions` contains product SKUs mapped to strings representing descriptions of the corresponding products."
      ]
    },
    {
      "cell_type": "markdown",
      "metadata": {
        "id": "Q-cAPaYTiz3_"
      },
      "source": [
        "## Task 3 - Explore the data"
      ]
    },
    {
      "cell_type": "markdown",
      "metadata": {
        "id": "Dmz5KGzJFJYC"
      },
      "source": [
        "### Description\n",
        "In this task, you will explore the loaded data by displaying its content. This includes displaying sales data, product details, and product description of a product using its product SKU."
      ]
    },
    {
      "cell_type": "markdown",
      "metadata": {
        "id": "kRKjcU-jHSlp"
      },
      "source": [
        "### Requirements\n",
        "- Dispaly sales data, product details, and product descriptions of all products.\n",
        "- Create a list named `product_skus` which contains product SKUs extracted from one of the dictionaries using `dict.keys()`.\n",
        "- Display sales data, product details, and product description of a product using its product SKU.\n",
        "- Print the length of `sales_data`, `product_details`, and `product_descriptions`."
      ]
    },
    {
      "cell_type": "markdown",
      "metadata": {
        "id": "5Y-xAzqjZLOJ"
      },
      "source": [
        "### Recommendations\n",
        "- Utilize the `pprint` module for pretty printing Python data structures.\n",
        "- Go to [this](https://docs.python.org/3/library/pprint.html) site to read more about `pprint`."
      ]
    },
    {
      "cell_type": "markdown",
      "source": [
        "First, display data form `sales_data`, `product_details`, and `product_descriptions`."
      ],
      "metadata": {
        "id": "kQULPLA2HePb"
      }
    },
    {
      "cell_type": "code",
      "execution_count": 6,
      "metadata": {
        "id": "2C9RhD9Ghtso",
        "colab": {
          "base_uri": "https://localhost:8080/"
        },
        "outputId": "a6c26205-de2c-4e06-b66f-2c4792eece75"
      },
      "outputs": [
        {
          "output_type": "stream",
          "name": "stdout",
          "text": [
            "Sales Data:\n",
            "{'AISJDKFJW93NJ': [10, 12, 15, 18, 20, 22, 25, 28, 26, 30, 32, 29, 27, 24],\n",
            " 'DJKFIEI432FIE': [8, 10, 12, 15, 20, 18, 14, 13, 17, 10, 8, 11, 14, 16],\n",
            " 'GGOENEBJ079499': [15, 18, 22, 25, 28, 20, 17, 23, 19, 21, 24, 27, 18, 20],\n",
            " 'HJSKNWK429DJE': [30, 32, 35, 38, 40, 42, 45, 48, 50, 52, 55, 53, 49, 47],\n",
            " 'JFKL3940NFKLJ': [18, 20, 22, 25, 28, 30, 32, 35, 38, 36, 33, 29, 26, 24],\n",
            " 'LKDFJ49LSDJKL': [25, 28, 30, 32, 35, 38, 42, 40, 37, 34, 36, 31, 29, 27],\n",
            " 'MWKDI3JFK39SL': [30, 35, 40, 45, 50, 42, 37, 38, 41, 36, 33, 39, 40, 44],\n",
            " 'NEKFJOWE9FDIW': [12, 15, 18, 20, 22, 24, 21, 23, 25, 28, 30, 27, 26, 29],\n",
            " 'OWEJL398FWJLK': [20, 22, 25, 28, 30, 32, 35, 38, 36, 33, 29, 26, 24, 27],\n",
            " 'XPLFJW2490XJN': [5, 8, 9, 12, 15, 10, 14, 16, 20, 18, 22, 25, 19, 21]}\n"
          ]
        }
      ],
      "source": [
        "#### YOUR CODE HERE ####\n",
        "# Display sales data, product details, and product descriptions of all products\n",
        "print(\"Sales Data:\")\n",
        "pprint.pprint(sales_data)\n",
        "\n"
      ]
    },
    {
      "cell_type": "code",
      "execution_count": 7,
      "metadata": {
        "id": "lKJ0SoxG1MxQ",
        "colab": {
          "base_uri": "https://localhost:8080/"
        },
        "outputId": "090e6018-5623-4549-8913-34b3778fd94c"
      },
      "outputs": [
        {
          "output_type": "stream",
          "name": "stdout",
          "text": [
            "\n",
            "Product Details:\n",
            "{'AISJDKFJW93NJ': {'availability': 'In stock',\n",
            "                   'brand': 'ArtCraft',\n",
            "                   'model': 'NatureCanvas-1001',\n",
            "                   'price': '$49.99',\n",
            "                   'product_name': 'Wall Art Print',\n",
            "                   'specifications': 'Canvas print, Ready to hang'},\n",
            " 'DJKFIEI432FIE': {'availability': 'In stock',\n",
            "                   'brand': 'RunFit',\n",
            "                   'model': 'SpeedX-500',\n",
            "                   'price': '$79.99',\n",
            "                   'product_name': \"Men's Running Shoes\",\n",
            "                   'specifications': 'Size 10, Lightweight design, Breathable '\n",
            "                                     'material'},\n",
            " 'GGOENEBJ079499': {'availability': 'In stock',\n",
            "                    'brand': 'XYZ Electronics',\n",
            "                    'model': 'ABC-2000',\n",
            "                    'price': '$499.99',\n",
            "                    'product_name': 'Smartphone',\n",
            "                    'specifications': '6.5-inch display, 128GB storage, 16MP '\n",
            "                                      'camera'},\n",
            " 'HJSKNWK429DJE': {'availability': 'In stock',\n",
            "                   'brand': 'SoundSync',\n",
            "                   'model': 'TunePro-2022',\n",
            "                   'price': '$89.99',\n",
            "                   'product_name': 'Wireless Earbuds',\n",
            "                   'specifications': 'Bluetooth 5.0, 20 hours battery life, '\n",
            "                                     'Touch controls'},\n",
            " 'JFKL3940NFKLJ': {'availability': 'In stock',\n",
            "                   'brand': 'FitFlex',\n",
            "                   'model': 'StrengthPro-300',\n",
            "                   'price': '$34.99',\n",
            "                   'product_name': 'Resistance Bands Set',\n",
            "                   'specifications': '5 bands, Varying resistance levels, '\n",
            "                                     'Portable'},\n",
            " 'LKDFJ49LSDJKL': {'availability': 'In stock',\n",
            "                   'brand': 'GlowBeauty',\n",
            "                   'model': 'AgeDefy-300',\n",
            "                   'price': '$39.99',\n",
            "                   'product_name': 'Anti-Aging Face Cream',\n",
            "                   'specifications': 'Natural ingredients, Hydrating formula'},\n",
            " 'MWKDI3JFK39SL': {'availability': 'In stock',\n",
            "                   'brand': 'BestBooks',\n",
            "                   'model': None,\n",
            "                   'price': '$14.99',\n",
            "                   'product_name': 'Fictional Novel',\n",
            "                   'specifications': 'Paperback, 300 pages'},\n",
            " 'NEKFJOWE9FDIW': {'availability': 'In stock',\n",
            "                   'brand': 'FamilyFun',\n",
            "                   'model': 'GameNight-2022',\n",
            "                   'price': '$29.99',\n",
            "                   'product_name': 'Board Game',\n",
            "                   'specifications': '2-6 players, Ages 8 and up'},\n",
            " 'OWEJL398FWJLK': {'availability': 'In stock',\n",
            "                   'brand': 'ZenFitness',\n",
            "                   'model': 'EcoMat-500',\n",
            "                   'price': '$19.99',\n",
            "                   'product_name': 'Yoga Mat',\n",
            "                   'specifications': 'Non-slip, 6mm thickness, Eco-friendly '\n",
            "                                     'material'},\n",
            " 'XPLFJW2490XJN': {'availability': 'In stock',\n",
            "                   'brand': 'CleanTech',\n",
            "                   'model': 'AutoSweep-9000',\n",
            "                   'price': '$249.99',\n",
            "                   'product_name': 'Robot Vacuum Cleaner',\n",
            "                   'specifications': 'Smart navigation, HEPA filter, 90 '\n",
            "                                     'minutes runtime'}}\n"
          ]
        }
      ],
      "source": [
        "# Display product details\n",
        "print(\"\\nProduct Details:\")\n",
        "pprint.pprint(product_details)"
      ]
    },
    {
      "cell_type": "code",
      "execution_count": 8,
      "metadata": {
        "id": "0rqYUJOxiAD8",
        "colab": {
          "base_uri": "https://localhost:8080/"
        },
        "outputId": "3726093a-347d-4e3a-a507-61b1f12f8d5c"
      },
      "outputs": [
        {
          "output_type": "stream",
          "name": "stdout",
          "text": [
            "\n",
            "Product Descriptions:\n",
            "{'AISJDKFJW93NJ': \"Transform your living space with ArtCraft's \"\n",
            "                  'NatureCanvas-1001 Wall Art Print.\\n'\n",
            "                  'This canvas print, ready to hang, brings the beauty of '\n",
            "                  'nature into your home.\\n'\n",
            "                  'With dimensions of 16 x 20 inches and a 4.6/5 stars rating, '\n",
            "                  \"it's a stunning addition to your decor, creating a focal \"\n",
            "                  'point that captures attention and sparks conversation.',\n",
            " 'DJKFIEI432FIE': 'Elevate your running experience with the RunFit SpeedX-500 '\n",
            "                  \"Men's Running Shoes.\\n\"\n",
            "                  'Designed for performance, these shoes feature a lightweight '\n",
            "                  'design, breathable material, and are available in vibrant '\n",
            "                  'Red, Blue, and classic Black.\\n'\n",
            "                  \"Whether you're a seasoned runner or just starting, these \"\n",
            "                  'shoes provide comfort and support for every stride, '\n",
            "                  'ensuring you reach new milestones effortlessly.',\n",
            " 'GGOENEBJ079499': 'Dive into the future with the XYZ Electronics Smartphone, '\n",
            "                   'model ABC-2000.\\n'\n",
            "                   'Boasting a 6.5-inch display, 128GB storage, and a 16MP '\n",
            "                   'camera, this powerful device redefines the smartphone '\n",
            "                   'experience.\\n'\n",
            "                   'With a sleek design and available in Black, Silver, and '\n",
            "                   'Blue, it combines cutting-edge technology with style, '\n",
            "                   'ensuring you stay connected in the most sophisticated way '\n",
            "                   'possible.',\n",
            " 'HJSKNWK429DJE': \"Immerse yourself in superior audio quality with SoundSync's \"\n",
            "                  'TunePro-2022 Wireless Earbuds.\\n'\n",
            "                  'Featuring Bluetooth 5.0, 20 hours of battery life, and '\n",
            "                  'touch controls, these earbuds deliver a seamless and '\n",
            "                  'immersive listening experience.\\n'\n",
            "                  'Available in Black and White, they combine style with '\n",
            "                  'functionality for music lovers on the go. \\n'\n",
            "                  'With a 4.7/5 stars rating, they stand out as a top choice '\n",
            "                  'in the realm of wireless audio.',\n",
            " 'JFKL3940NFKLJ': \"Embrace versatility in your workouts with FitFlex's \"\n",
            "                  'StrengthPro-300 Resistance Bands Set.\\n'\n",
            "                  'With 5 bands offering varying resistance levels and '\n",
            "                  'portability, this set is your go-to for effective strength '\n",
            "                  'training.\\n'\n",
            "                  'Available in Red, Yellow, and Blue, it caters to different '\n",
            "                  'fitness levels and adds a dynamic dimension to your '\n",
            "                  'exercise routine.',\n",
            " 'LKDFJ49LSDJKL': \"Rediscover youthful radiance with GlowBeauty's AgeDefy-300 \"\n",
            "                  'Anti-Aging Face Cream.\\n'\n",
            "                  'Formulated with natural ingredients and a hydrating '\n",
            "                  'formula, this skincare essential rejuvenates and nourishes '\n",
            "                  'your skin, leaving you with a vibrant and refreshed '\n",
            "                  'complexion.\\n'\n",
            "                  \"With a stellar 4.7/5 stars rating, it's a must-have for \"\n",
            "                  'those embracing the journey to ageless beauty.',\n",
            " 'MWKDI3JFK39SL': 'Immerse yourself in the world of storytelling with '\n",
            "                  \"BestBooks' Fictional Novel.\\n\"\n",
            "                  'This paperback, spanning 300 pages, promises a captivating '\n",
            "                  'journey through the pages of an engaging narrative.\\n'\n",
            "                  'Ideal for avid readers seeking an escape, this novel, with '\n",
            "                  'a 4.6/5 stars rating, is a testament to its ability to '\n",
            "                  'weave a compelling tale that keeps you hooked until the '\n",
            "                  'last page.',\n",
            " 'NEKFJOWE9FDIW': \"Unleash the fun with FamilyFun's GameNight-2022 Board \"\n",
            "                  'Game.\\n'\n",
            "                  'Designed for 2-6 players and suitable for ages 8 and up, '\n",
            "                  'this exciting game promises laughter and bonding moments '\n",
            "                  'for the entire family.\\n'\n",
            "                  \"With a 4.4/5 stars rating, it's a testament to its ability \"\n",
            "                  'to turn any ordinary night into an extraordinary game night '\n",
            "                  'filled with friendly competition and shared joy.',\n",
            " 'OWEJL398FWJLK': \"Elevate your yoga practice with ZenFitness' EcoMat-500 Yoga \"\n",
            "                  'Mat.\\n'\n",
            "                  'Featuring a non-slip surface, 6mm thickness, and '\n",
            "                  'eco-friendly materials, this high-quality mat provides the '\n",
            "                  'perfect foundation for your workouts.\\n'\n",
            "                  'Available in Purple, Green, and Blue, it not only enhances '\n",
            "                  'your comfort but also adds a touch of serenity to your '\n",
            "                  'exercise routine.',\n",
            " 'XPLFJW2490XJN': 'Introducing the CleanTech AutoSweep-9000 Robot Vacuum '\n",
            "                  'Cleaner – your smart companion for automated cleaning.\\n'\n",
            "                  'With smart navigation, a HEPA filter, and a runtime of 90 '\n",
            "                  'minutes, this efficient device takes care of your cleaning '\n",
            "                  'needs.\\n'\n",
            "                  'Available in White and Silver, it blends seamlessly into '\n",
            "                  'your home, making cleanliness a hassle-free experience.'}\n"
          ]
        }
      ],
      "source": [
        "#### YOUR CODE HERE ####\n",
        "# Display product descriptions\n",
        "print(\"\\nProduct Descriptions:\")\n",
        "pprint.pprint(product_descriptions)"
      ]
    },
    {
      "cell_type": "markdown",
      "metadata": {
        "id": "bgy4s7ZcuPBE"
      },
      "source": [
        "Create a list of product SKUs by extracting the product SKUs using `dict.keys()` from one of the three dicionaries, which can then be used to access details of a product."
      ]
    },
    {
      "cell_type": "code",
      "execution_count": 9,
      "metadata": {
        "id": "EGDH9_qQ0ZTq",
        "colab": {
          "base_uri": "https://localhost:8080/"
        },
        "outputId": "00a27622-71cc-4c8e-c1ed-8682acdbc52f"
      },
      "outputs": [
        {
          "output_type": "stream",
          "name": "stdout",
          "text": [
            "SKU: HJSKNWK429DJE\n",
            "Sales Data:\n",
            "[30, 32, 35, 38, 40, 42, 45, 48, 50, 52, 55, 53, 49, 47]\n",
            "Product Details:\n",
            "{'availability': 'In stock',\n",
            " 'brand': 'SoundSync',\n",
            " 'model': 'TunePro-2022',\n",
            " 'price': '$89.99',\n",
            " 'product_name': 'Wireless Earbuds',\n",
            " 'specifications': 'Bluetooth 5.0, 20 hours battery life, Touch controls'}\n",
            "Product Description:\n",
            "(\"Immerse yourself in superior audio quality with SoundSync's TunePro-2022 \"\n",
            " 'Wireless Earbuds.\\n'\n",
            " 'Featuring Bluetooth 5.0, 20 hours of battery life, and touch controls, these '\n",
            " 'earbuds deliver a seamless and immersive listening experience.\\n'\n",
            " 'Available in Black and White, they combine style with functionality for '\n",
            " 'music lovers on the go. \\n'\n",
            " 'With a 4.7/5 stars rating, they stand out as a top choice in the realm of '\n",
            " 'wireless audio.')\n",
            "\n",
            "SKU: GGOENEBJ079499\n",
            "Sales Data:\n",
            "[15, 18, 22, 25, 28, 20, 17, 23, 19, 21, 24, 27, 18, 20]\n",
            "Product Details:\n",
            "{'availability': 'In stock',\n",
            " 'brand': 'XYZ Electronics',\n",
            " 'model': 'ABC-2000',\n",
            " 'price': '$499.99',\n",
            " 'product_name': 'Smartphone',\n",
            " 'specifications': '6.5-inch display, 128GB storage, 16MP camera'}\n",
            "Product Description:\n",
            "('Dive into the future with the XYZ Electronics Smartphone, model ABC-2000.\\n'\n",
            " 'Boasting a 6.5-inch display, 128GB storage, and a 16MP camera, this powerful '\n",
            " 'device redefines the smartphone experience.\\n'\n",
            " 'With a sleek design and available in Black, Silver, and Blue, it combines '\n",
            " 'cutting-edge technology with style, ensuring you stay connected in the most '\n",
            " 'sophisticated way possible.')\n",
            "\n",
            "SKU: AISJDKFJW93NJ\n",
            "Sales Data:\n",
            "[10, 12, 15, 18, 20, 22, 25, 28, 26, 30, 32, 29, 27, 24]\n",
            "Product Details:\n",
            "{'availability': 'In stock',\n",
            " 'brand': 'ArtCraft',\n",
            " 'model': 'NatureCanvas-1001',\n",
            " 'price': '$49.99',\n",
            " 'product_name': 'Wall Art Print',\n",
            " 'specifications': 'Canvas print, Ready to hang'}\n",
            "Product Description:\n",
            "(\"Transform your living space with ArtCraft's NatureCanvas-1001 Wall Art \"\n",
            " 'Print.\\n'\n",
            " 'This canvas print, ready to hang, brings the beauty of nature into your '\n",
            " 'home.\\n'\n",
            " \"With dimensions of 16 x 20 inches and a 4.6/5 stars rating, it's a stunning \"\n",
            " 'addition to your decor, creating a focal point that captures attention and '\n",
            " 'sparks conversation.')\n",
            "\n",
            "SKU: NEKFJOWE9FDIW\n",
            "Sales Data:\n",
            "[12, 15, 18, 20, 22, 24, 21, 23, 25, 28, 30, 27, 26, 29]\n",
            "Product Details:\n",
            "{'availability': 'In stock',\n",
            " 'brand': 'FamilyFun',\n",
            " 'model': 'GameNight-2022',\n",
            " 'price': '$29.99',\n",
            " 'product_name': 'Board Game',\n",
            " 'specifications': '2-6 players, Ages 8 and up'}\n",
            "Product Description:\n",
            "(\"Unleash the fun with FamilyFun's GameNight-2022 Board Game.\\n\"\n",
            " 'Designed for 2-6 players and suitable for ages 8 and up, this exciting game '\n",
            " 'promises laughter and bonding moments for the entire family.\\n'\n",
            " \"With a 4.4/5 stars rating, it's a testament to its ability to turn any \"\n",
            " 'ordinary night into an extraordinary game night filled with friendly '\n",
            " 'competition and shared joy.')\n",
            "\n",
            "SKU: OWEJL398FWJLK\n",
            "Sales Data:\n",
            "[20, 22, 25, 28, 30, 32, 35, 38, 36, 33, 29, 26, 24, 27]\n",
            "Product Details:\n",
            "{'availability': 'In stock',\n",
            " 'brand': 'ZenFitness',\n",
            " 'model': 'EcoMat-500',\n",
            " 'price': '$19.99',\n",
            " 'product_name': 'Yoga Mat',\n",
            " 'specifications': 'Non-slip, 6mm thickness, Eco-friendly material'}\n",
            "Product Description:\n",
            "(\"Elevate your yoga practice with ZenFitness' EcoMat-500 Yoga Mat.\\n\"\n",
            " 'Featuring a non-slip surface, 6mm thickness, and eco-friendly materials, '\n",
            " 'this high-quality mat provides the perfect foundation for your workouts.\\n'\n",
            " 'Available in Purple, Green, and Blue, it not only enhances your comfort but '\n",
            " 'also adds a touch of serenity to your exercise routine.')\n",
            "\n",
            "SKU: XPLFJW2490XJN\n",
            "Sales Data:\n",
            "[5, 8, 9, 12, 15, 10, 14, 16, 20, 18, 22, 25, 19, 21]\n",
            "Product Details:\n",
            "{'availability': 'In stock',\n",
            " 'brand': 'CleanTech',\n",
            " 'model': 'AutoSweep-9000',\n",
            " 'price': '$249.99',\n",
            " 'product_name': 'Robot Vacuum Cleaner',\n",
            " 'specifications': 'Smart navigation, HEPA filter, 90 minutes runtime'}\n",
            "Product Description:\n",
            "('Introducing the CleanTech AutoSweep-9000 Robot Vacuum Cleaner – your smart '\n",
            " 'companion for automated cleaning.\\n'\n",
            " 'With smart navigation, a HEPA filter, and a runtime of 90 minutes, this '\n",
            " 'efficient device takes care of your cleaning needs.\\n'\n",
            " 'Available in White and Silver, it blends seamlessly into your home, making '\n",
            " 'cleanliness a hassle-free experience.')\n",
            "\n",
            "SKU: MWKDI3JFK39SL\n",
            "Sales Data:\n",
            "[30, 35, 40, 45, 50, 42, 37, 38, 41, 36, 33, 39, 40, 44]\n",
            "Product Details:\n",
            "{'availability': 'In stock',\n",
            " 'brand': 'BestBooks',\n",
            " 'model': None,\n",
            " 'price': '$14.99',\n",
            " 'product_name': 'Fictional Novel',\n",
            " 'specifications': 'Paperback, 300 pages'}\n",
            "Product Description:\n",
            "(\"Immerse yourself in the world of storytelling with BestBooks' Fictional \"\n",
            " 'Novel.\\n'\n",
            " 'This paperback, spanning 300 pages, promises a captivating journey through '\n",
            " 'the pages of an engaging narrative.\\n'\n",
            " 'Ideal for avid readers seeking an escape, this novel, with a 4.6/5 stars '\n",
            " 'rating, is a testament to its ability to weave a compelling tale that keeps '\n",
            " 'you hooked until the last page.')\n",
            "\n",
            "SKU: JFKL3940NFKLJ\n",
            "Sales Data:\n",
            "[18, 20, 22, 25, 28, 30, 32, 35, 38, 36, 33, 29, 26, 24]\n",
            "Product Details:\n",
            "{'availability': 'In stock',\n",
            " 'brand': 'FitFlex',\n",
            " 'model': 'StrengthPro-300',\n",
            " 'price': '$34.99',\n",
            " 'product_name': 'Resistance Bands Set',\n",
            " 'specifications': '5 bands, Varying resistance levels, Portable'}\n",
            "Product Description:\n",
            "(\"Embrace versatility in your workouts with FitFlex's StrengthPro-300 \"\n",
            " 'Resistance Bands Set.\\n'\n",
            " 'With 5 bands offering varying resistance levels and portability, this set is '\n",
            " 'your go-to for effective strength training.\\n'\n",
            " 'Available in Red, Yellow, and Blue, it caters to different fitness levels '\n",
            " 'and adds a dynamic dimension to your exercise routine.')\n",
            "\n",
            "SKU: LKDFJ49LSDJKL\n",
            "Sales Data:\n",
            "[25, 28, 30, 32, 35, 38, 42, 40, 37, 34, 36, 31, 29, 27]\n",
            "Product Details:\n",
            "{'availability': 'In stock',\n",
            " 'brand': 'GlowBeauty',\n",
            " 'model': 'AgeDefy-300',\n",
            " 'price': '$39.99',\n",
            " 'product_name': 'Anti-Aging Face Cream',\n",
            " 'specifications': 'Natural ingredients, Hydrating formula'}\n",
            "Product Description:\n",
            "(\"Rediscover youthful radiance with GlowBeauty's AgeDefy-300 Anti-Aging Face \"\n",
            " 'Cream.\\n'\n",
            " 'Formulated with natural ingredients and a hydrating formula, this skincare '\n",
            " 'essential rejuvenates and nourishes your skin, leaving you with a vibrant '\n",
            " 'and refreshed complexion.\\n'\n",
            " \"With a stellar 4.7/5 stars rating, it's a must-have for those embracing the \"\n",
            " 'journey to ageless beauty.')\n",
            "\n",
            "SKU: DJKFIEI432FIE\n",
            "Sales Data:\n",
            "[8, 10, 12, 15, 20, 18, 14, 13, 17, 10, 8, 11, 14, 16]\n",
            "Product Details:\n",
            "{'availability': 'In stock',\n",
            " 'brand': 'RunFit',\n",
            " 'model': 'SpeedX-500',\n",
            " 'price': '$79.99',\n",
            " 'product_name': \"Men's Running Shoes\",\n",
            " 'specifications': 'Size 10, Lightweight design, Breathable material'}\n",
            "Product Description:\n",
            "(\"Elevate your running experience with the RunFit SpeedX-500 Men's Running \"\n",
            " 'Shoes.\\n'\n",
            " 'Designed for performance, these shoes feature a lightweight design, '\n",
            " 'breathable material, and are available in vibrant Red, Blue, and classic '\n",
            " 'Black.\\n'\n",
            " \"Whether you're a seasoned runner or just starting, these shoes provide \"\n",
            " 'comfort and support for every stride, ensuring you reach new milestones '\n",
            " 'effortlessly.')\n",
            "\n"
          ]
        }
      ],
      "source": [
        "#### YOUR CODE HERE ####\n",
        "# Extract product SKUs from one of the dictionaries using dict.keys()\n",
        "product_skus = list(product_details.keys())  # Assuming product_details is chosen\n",
        "\n",
        "# Display the content of the loaded data\n",
        "for sku in product_skus:\n",
        "    print(f\"SKU: {sku}\")\n",
        "    print(\"Sales Data:\")\n",
        "    pprint.pprint(sales_data.get(sku, \"No sales data available\"))\n",
        "    print(\"Product Details:\")\n",
        "    pprint.pprint(product_details.get(sku, \"No product details available\"))\n",
        "    print(\"Product Description:\")\n",
        "    pprint.pprint(product_descriptions.get(sku, \"No product description available\"))\n",
        "    print()\n"
      ]
    },
    {
      "cell_type": "markdown",
      "source": [
        "Display sales data, product details, and product description of a product using its product SKU."
      ],
      "metadata": {
        "id": "8bQQTAa6HDys"
      }
    },
    {
      "cell_type": "code",
      "execution_count": 10,
      "metadata": {
        "id": "WDWy4r9J1u86",
        "colab": {
          "base_uri": "https://localhost:8080/"
        },
        "outputId": "4079ae70-1b8c-4743-c4f5-7c30acf9861d"
      },
      "outputs": [
        {
          "output_type": "stream",
          "name": "stdout",
          "text": [
            "DJKFIEI432FIE\n",
            "SKU: DJKFIEI432FIE\n",
            "Sales Data:\n",
            "[8, 10, 12, 15, 20, 18, 14, 13, 17, 10, 8, 11, 14, 16]\n",
            "\n",
            "Product Details:\n",
            "{'availability': 'In stock',\n",
            " 'brand': 'RunFit',\n",
            " 'model': 'SpeedX-500',\n",
            " 'price': '$79.99',\n",
            " 'product_name': \"Men's Running Shoes\",\n",
            " 'specifications': 'Size 10, Lightweight design, Breathable material'}\n",
            "\n",
            "Product Description:\n",
            "Elevate your running experience with the RunFit SpeedX-500 Men's Running Shoes.\n",
            "Designed for performance, these shoes feature a lightweight design, breathable material, and are available in vibrant Red, Blue, and classic Black.\n",
            "Whether you're a seasoned runner or just starting, these shoes provide comfort and support for every stride, ensuring you reach new milestones effortlessly.\n"
          ]
        }
      ],
      "source": [
        "#### YOUR CODE HERE ####\n",
        "# Define the product SKU\n",
        "sku1 = input()\n",
        "import pprint\n",
        "\n",
        "def display_product_info(sku1):\n",
        "    print(\"SKU:\", sku1)\n",
        "\n",
        "    print(\"Sales Data:\")\n",
        "    if sku in sales_data:\n",
        "        pprint.pprint(sales_data[sku1])\n",
        "    else:\n",
        "        print(\"Sales data not available for this product SKU.\")\n",
        "\n",
        "    print(\"\\nProduct Details:\")\n",
        "    if sku in product_details:\n",
        "        pprint.pprint(product_details[sku1])\n",
        "    else:\n",
        "        print(\"Product details not available for this product SKU.\")\n",
        "\n",
        "    print(\"\\nProduct Description:\")\n",
        "    if sku in product_descriptions:\n",
        "        print(product_descriptions[sku1])\n",
        "    else:\n",
        "        print(\"Product description not available for this product SKU.\")\n",
        "\n",
        "display_product_info(sku1)\n",
        "\n"
      ]
    },
    {
      "cell_type": "code",
      "execution_count": null,
      "metadata": {
        "id": "5WeEWj7N9F15",
        "colab": {
          "base_uri": "https://localhost:8080/"
        },
        "outputId": "91e2c603-5fc8-4666-9ec5-d4b84222ebe1"
      },
      "outputs": [
        {
          "output_type": "stream",
          "name": "stdout",
          "text": [
            "GGOENEBJ079499\n",
            "SKU: GGOENEBJ079499\n",
            "Sales Data:\n",
            "[15, 18, 22, 25, 28, 20, 17, 23, 19, 21, 24, 27, 18, 20]\n",
            "\n",
            "Product Details:\n",
            "{'availability': 'In stock',\n",
            " 'brand': 'XYZ Electronics',\n",
            " 'model': 'ABC-2000',\n",
            " 'price': '$499.99',\n",
            " 'product_name': 'Smartphone',\n",
            " 'specifications': '6.5-inch display, 128GB storage, 16MP camera'}\n",
            "\n",
            "Product Description:\n",
            "Dive into the future with the XYZ Electronics Smartphone, model ABC-2000.\n",
            "Boasting a 6.5-inch display, 128GB storage, and a 16MP camera, this powerful device redefines the smartphone experience.\n",
            "With a sleek design and available in Black, Silver, and Blue, it combines cutting-edge technology with style, ensuring you stay connected in the most sophisticated way possible.\n"
          ]
        }
      ],
      "source": [
        "#### YOUR CODE HERE ####\n",
        "# Define the product SKU\n",
        "sku2 = input()\n",
        "def display_product_info(sku2):\n",
        "    print(\"SKU:\", sku2)\n",
        "\n",
        "    print(\"Sales Data:\")\n",
        "    if sku in sales_data:\n",
        "        pprint.pprint(sales_data[sku2])\n",
        "    else:\n",
        "        print(\"Sales data not available for this product SKU.\")\n",
        "\n",
        "    print(\"\\nProduct Details:\")\n",
        "    if sku in product_details:\n",
        "        pprint.pprint(product_details[sku2])\n",
        "    else:\n",
        "        print(\"Product details not available for this product SKU.\")\n",
        "\n",
        "    print(\"\\nProduct Description:\")\n",
        "    if sku in product_descriptions:\n",
        "        print(product_descriptions[sku2])\n",
        "    else:\n",
        "        print(\"Product description not available for this product SKU.\")\n",
        "\n",
        "display_product_info(sku2)\n"
      ]
    },
    {
      "cell_type": "code",
      "execution_count": null,
      "metadata": {
        "id": "8XLqE-5hh2cP",
        "colab": {
          "base_uri": "https://localhost:8080/"
        },
        "outputId": "dd5eeb85-c3a3-4f55-ff8e-f8f8eb279264"
      },
      "outputs": [
        {
          "output_type": "stream",
          "name": "stdout",
          "text": [
            "AISJDKFJW93NJ\n",
            "SKU: AISJDKFJW93NJ\n",
            "Sales Data:\n",
            "[10, 12, 15, 18, 20, 22, 25, 28, 26, 30, 32, 29, 27, 24]\n",
            "\n",
            "Product Details:\n",
            "{'availability': 'In stock',\n",
            " 'brand': 'ArtCraft',\n",
            " 'model': 'NatureCanvas-1001',\n",
            " 'price': '$49.99',\n",
            " 'product_name': 'Wall Art Print',\n",
            " 'specifications': 'Canvas print, Ready to hang'}\n",
            "\n",
            "Product Description:\n",
            "Transform your living space with ArtCraft's NatureCanvas-1001 Wall Art Print.\n",
            "This canvas print, ready to hang, brings the beauty of nature into your home.\n",
            "With dimensions of 16 x 20 inches and a 4.6/5 stars rating, it's a stunning addition to your decor, creating a focal point that captures attention and sparks conversation.\n"
          ]
        }
      ],
      "source": [
        "#### YOUR CODE HERE ####\n",
        "# Define the product SKU\n",
        "sku3 = input()\n",
        "def display_product_info(sku3):\n",
        "    print(\"SKU:\", sku3)\n",
        "\n",
        "    print(\"Sales Data:\")\n",
        "    if sku in sales_data:\n",
        "        pprint.pprint(sales_data[sku3])\n",
        "    else:\n",
        "        print(\"Sales data not available for this product SKU.\")\n",
        "\n",
        "    print(\"\\nProduct Details:\")\n",
        "    if sku in product_details:\n",
        "        pprint.pprint(product_details[sku3])\n",
        "    else:\n",
        "        print(\"Product details not available for this product SKU.\")\n",
        "\n",
        "    print(\"\\nProduct Description:\")\n",
        "    if sku in product_descriptions:\n",
        "        print(product_descriptions[sku3])\n",
        "    else:\n",
        "        print(\"Product description not available for this product SKU.\")\n",
        "\n",
        "display_product_info(sku3)\n"
      ]
    },
    {
      "cell_type": "code",
      "execution_count": null,
      "metadata": {
        "id": "FhQVO_gK0n15",
        "colab": {
          "base_uri": "https://localhost:8080/"
        },
        "outputId": "27bd87dc-3fe6-4a33-b21c-8b6b4a853023"
      },
      "outputs": [
        {
          "output_type": "stream",
          "name": "stdout",
          "text": [
            "NEKFJOWE9FDIW\n",
            "SKU: NEKFJOWE9FDIW\n",
            "Sales Data:\n",
            "[12, 15, 18, 20, 22, 24, 21, 23, 25, 28, 30, 27, 26, 29]\n",
            "\n",
            "Product Details:\n",
            "{'availability': 'In stock',\n",
            " 'brand': 'FamilyFun',\n",
            " 'model': 'GameNight-2022',\n",
            " 'price': '$29.99',\n",
            " 'product_name': 'Board Game',\n",
            " 'specifications': '2-6 players, Ages 8 and up'}\n",
            "\n",
            "Product Description:\n",
            "Unleash the fun with FamilyFun's GameNight-2022 Board Game.\n",
            "Designed for 2-6 players and suitable for ages 8 and up, this exciting game promises laughter and bonding moments for the entire family.\n",
            "With a 4.4/5 stars rating, it's a testament to its ability to turn any ordinary night into an extraordinary game night filled with friendly competition and shared joy.\n"
          ]
        }
      ],
      "source": [
        "#### YOUR CODE HERE ####\n",
        "#### YOUR CODE HERE ####\n",
        "# Define the product SKU\n",
        "sku4 = input()\n",
        "def display_product_info(sku4):\n",
        "    print(\"SKU:\", sku4)\n",
        "\n",
        "    print(\"Sales Data:\")\n",
        "    if sku in sales_data:\n",
        "        pprint.pprint(sales_data[sku4])\n",
        "    else:\n",
        "        print(\"Sales data not available for this product SKU.\")\n",
        "\n",
        "    print(\"\\nProduct Details:\")\n",
        "    if sku in product_details:\n",
        "        pprint.pprint(product_details[sku4])\n",
        "    else:\n",
        "        print(\"Product details not available for this product SKU.\")\n",
        "\n",
        "    print(\"\\nProduct Description:\")\n",
        "    if sku in product_descriptions:\n",
        "        print(product_descriptions[sku4])\n",
        "    else:\n",
        "        print(\"Product description not available for this product SKU.\")\n",
        "\n",
        "display_product_info(sku4)"
      ]
    },
    {
      "cell_type": "code",
      "execution_count": null,
      "metadata": {
        "id": "fdSlSXvB9ERL",
        "colab": {
          "base_uri": "https://localhost:8080/"
        },
        "outputId": "e3694e63-aa99-4986-a301-de7386f810c9"
      },
      "outputs": [
        {
          "output_type": "stream",
          "name": "stdout",
          "text": [
            "OWEJL398FWJLK\n",
            "SKU: OWEJL398FWJLK\n",
            "Sales Data:\n",
            "[20, 22, 25, 28, 30, 32, 35, 38, 36, 33, 29, 26, 24, 27]\n",
            "\n",
            "Product Details:\n",
            "{'availability': 'In stock',\n",
            " 'brand': 'ZenFitness',\n",
            " 'model': 'EcoMat-500',\n",
            " 'price': '$19.99',\n",
            " 'product_name': 'Yoga Mat',\n",
            " 'specifications': 'Non-slip, 6mm thickness, Eco-friendly material'}\n",
            "\n",
            "Product Description:\n",
            "Elevate your yoga practice with ZenFitness' EcoMat-500 Yoga Mat.\n",
            "Featuring a non-slip surface, 6mm thickness, and eco-friendly materials, this high-quality mat provides the perfect foundation for your workouts.\n",
            "Available in Purple, Green, and Blue, it not only enhances your comfort but also adds a touch of serenity to your exercise routine.\n"
          ]
        }
      ],
      "source": [
        "#### YOUR CODE HERE ####\n",
        "#### YOUR CODE HERE ####\n",
        "# Define the product SKU\n",
        "sku5 = input()\n",
        "def display_product_info(sku5):\n",
        "    print(\"SKU:\", sku5)\n",
        "\n",
        "    print(\"Sales Data:\")\n",
        "    if sku in sales_data:\n",
        "        pprint.pprint(sales_data[sku5])\n",
        "    else:\n",
        "        print(\"Sales data not available for this product SKU.\")\n",
        "\n",
        "    print(\"\\nProduct Details:\")\n",
        "    if sku in product_details:\n",
        "        pprint.pprint(product_details[sku5])\n",
        "    else:\n",
        "        print(\"Product details not available for this product SKU.\")\n",
        "\n",
        "    print(\"\\nProduct Description:\")\n",
        "    if sku in product_descriptions:\n",
        "        print(product_descriptions[sku5])\n",
        "    else:\n",
        "        print(\"Product description not available for this product SKU.\")\n",
        "\n",
        "display_product_info(sku5)"
      ]
    },
    {
      "cell_type": "code",
      "execution_count": null,
      "metadata": {
        "id": "DASYKDhk1_oB",
        "colab": {
          "base_uri": "https://localhost:8080/"
        },
        "outputId": "e3c41645-a3ab-43dd-c72f-bd5d81ae64a3"
      },
      "outputs": [
        {
          "output_type": "stream",
          "name": "stdout",
          "text": [
            "XPLFJW2490XJN\n",
            "SKU: XPLFJW2490XJN\n",
            "Sales Data:\n",
            "[5, 8, 9, 12, 15, 10, 14, 16, 20, 18, 22, 25, 19, 21]\n",
            "\n",
            "Product Details:\n",
            "{'availability': 'In stock',\n",
            " 'brand': 'CleanTech',\n",
            " 'model': 'AutoSweep-9000',\n",
            " 'price': '$249.99',\n",
            " 'product_name': 'Robot Vacuum Cleaner',\n",
            " 'specifications': 'Smart navigation, HEPA filter, 90 minutes runtime'}\n",
            "\n",
            "Product Description:\n",
            "Introducing the CleanTech AutoSweep-9000 Robot Vacuum Cleaner – your smart companion for automated cleaning.\n",
            "With smart navigation, a HEPA filter, and a runtime of 90 minutes, this efficient device takes care of your cleaning needs.\n",
            "Available in White and Silver, it blends seamlessly into your home, making cleanliness a hassle-free experience.\n"
          ]
        }
      ],
      "source": [
        "#### YOUR CODE HERE ####\n",
        "#### YOUR CODE HERE ####\n",
        "# Define the product SKU\n",
        "sku6 = input()\n",
        "def display_product_info(sku6):\n",
        "    print(\"SKU:\", sku6)\n",
        "\n",
        "    print(\"Sales Data:\")\n",
        "    if sku in sales_data:\n",
        "        pprint.pprint(sales_data[sku6])\n",
        "    else:\n",
        "        print(\"Sales data not available for this product SKU.\")\n",
        "\n",
        "    print(\"\\nProduct Details:\")\n",
        "    if sku in product_details:\n",
        "        pprint.pprint(product_details[sku6])\n",
        "    else:\n",
        "        print(\"Product details not available for this product SKU.\")\n",
        "\n",
        "    print(\"\\nProduct Description:\")\n",
        "    if sku in product_descriptions:\n",
        "        print(product_descriptions[sku6])\n",
        "    else:\n",
        "        print(\"Product description not available for this product SKU.\")\n",
        "\n",
        "display_product_info(sku6)"
      ]
    },
    {
      "cell_type": "markdown",
      "source": [
        "Display the length of `sales_data`, `product_details`, and `product_descriptions`."
      ],
      "metadata": {
        "id": "M29OiUpcIJyn"
      }
    },
    {
      "cell_type": "code",
      "source": [
        "#### YOUR CODE HERE ####\n",
        "sales_data_length = len(sales_data)\n",
        "print(\"Length of sales_data:\")\n",
        "pprint.pprint(sales_data_length)"
      ],
      "metadata": {
        "id": "P_KCw2TtIPjl",
        "colab": {
          "base_uri": "https://localhost:8080/"
        },
        "outputId": "3c03d87c-fcbd-4ab9-ca81-0b73d1fc3db1"
      },
      "execution_count": 11,
      "outputs": [
        {
          "output_type": "stream",
          "name": "stdout",
          "text": [
            "Length of sales_data:\n",
            "10\n"
          ]
        }
      ]
    },
    {
      "cell_type": "code",
      "source": [
        "#### YOUR CODE HERE ####\n",
        "product_details_length = len(product_details)\n",
        "print(\"\\nLength of product_details:\")\n",
        "pprint.pprint(product_details_length)"
      ],
      "metadata": {
        "id": "WD6nkFf5IcP1",
        "colab": {
          "base_uri": "https://localhost:8080/"
        },
        "outputId": "97b18d94-c245-42be-f16b-d3695c785c82"
      },
      "execution_count": 12,
      "outputs": [
        {
          "output_type": "stream",
          "name": "stdout",
          "text": [
            "\n",
            "Length of product_details:\n",
            "10\n"
          ]
        }
      ]
    },
    {
      "cell_type": "code",
      "source": [
        "#### YOUR CODE HERE ####\n",
        "product_descriptions_length = len(product_descriptions)\n",
        "print(\"\\nLength of product_descriptions:\")\n",
        "pprint.pprint(product_descriptions_length)"
      ],
      "metadata": {
        "id": "9a0YVr6gIZsk",
        "colab": {
          "base_uri": "https://localhost:8080/"
        },
        "outputId": "06726ed8-ae42-4ed3-e8e6-856e9bf821c5"
      },
      "execution_count": 13,
      "outputs": [
        {
          "output_type": "stream",
          "name": "stdout",
          "text": [
            "\n",
            "Length of product_descriptions:\n",
            "10\n"
          ]
        }
      ]
    },
    {
      "cell_type": "markdown",
      "metadata": {
        "id": "mU6IzrzYZ_b4"
      },
      "source": [
        "### Checklist\n",
        "- Displayed sales data, product details, and product descriptions of all the products\n",
        "- The extracted product SKUs are *AISJDKFJW93NJ, DJKFIEI432FIE, GGOENEBJ079499, HJSKNWK429DJE JFKL3940NFKLJ, LKDFJ49LSDJKL,MWKDI3JFK39SL, NEKFJOWE9FDIW,OWEJL398FWJLK, and XPLFJW2490XJN*.\n",
        "- Displayed sales data, product details, and product description of a product using its product SKU\n",
        "- Length of `sales_data`, `product_details`, and `product_descriptions` is 10."
      ]
    },
    {
      "cell_type": "markdown",
      "metadata": {
        "id": "-s3el3T2A41B"
      },
      "source": [
        "# Stage 2 - Create\n",
        "\n",
        "In the this stage, you will define a function `create()` to add sales data, product details, and product descriptions for a new product. You will also define some sub-functions to complete smaller tasks.\n",
        "\n",
        "You will achieve this by completing the following tasks:\n",
        "\n",
        "- Task 4 - Add sales data\n",
        "- Task 5 - Add product details\n",
        "- Task 6 - Add product description\n",
        "- Task 7 - Create function\n"
      ]
    },
    {
      "cell_type": "markdown",
      "metadata": {
        "id": "KR9w5MtF2iuy"
      },
      "source": [
        "## Task 4 - Add sales data"
      ]
    },
    {
      "cell_type": "markdown",
      "source": [
        "### Description\n",
        "In this task, you will write a function to add sales data for a new product give then SKU and the quantities that need to be added.\n"
      ],
      "metadata": {
        "id": "3sv3srpNP0by"
      }
    },
    {
      "cell_type": "markdown",
      "source": [
        "### Requirements\n",
        "- Define a function named `add_sales_data()` that:\n",
        "  - adds new sales data to the `sales_data` dicitionary using the sku as the key.\n",
        "  - The function should accept the following parameters:\n",
        "    - `sales_data` dictionary\n",
        "    - `sku` value\n",
        "    - list called `quantities` consisting of sales data for the new product\n",
        "- The function should return:\n",
        "    - The updated `sales_data` dictionary after creating the entry for the new SKU."
      ],
      "metadata": {
        "id": "yuS0kGCbP93D"
      }
    },
    {
      "cell_type": "markdown",
      "source": [
        "### Recommendations\n",
        "- Provide the data description and requirements to ChatGPT along with the libraries that you are using and ask it to generate code for the function.\n",
        "- If you get stuck somewhere, you can ask ChatGPT to explain the code to you and you can make edits as required."
      ],
      "metadata": {
        "id": "51b-kmL5P9ve"
      }
    },
    {
      "cell_type": "code",
      "execution_count": 14,
      "metadata": {
        "id": "RdPeCXd22MJ5"
      },
      "outputs": [],
      "source": [
        "def add_sales_data(sales_data, sku, quantities):\n",
        "    \"\"\"\n",
        "    Add sales data for a new product SKU.\n",
        "\n",
        "    Parameters:\n",
        "        sales_data (dict): The dictionary containing sales data.\n",
        "        sku (str): The product SKU.\n",
        "        quantities (list of int): List of quantities sold for each of the past 14 days.\n",
        "\n",
        "    Returns:\n",
        "        dict: The updated sales data after adding the entry for the new SKU.\n",
        "    \"\"\"\n",
        "    sales_data[sku] = quantities\n",
        "    return sales_data\n"
      ]
    },
    {
      "cell_type": "markdown",
      "source": [
        "Check your code here."
      ],
      "metadata": {
        "id": "vOvcL_J5Cn51"
      }
    },
    {
      "cell_type": "code",
      "source": [
        "new_sku = \"TYS56KFJW93NJ\"\n",
        "new_quantities = [0, 0, 0, 0, 0, 0, 0, 0, 0, 0, 0, 0, 0, 0]  # Assuming 14 days of sales data\n",
        "updated_sales_data = add_sales_data(sales_data, new_sku, new_quantities)\n",
        "print(\"Updated sales data:\")\n",
        "pprint.pprint(updated_sales_data)\n"
      ],
      "metadata": {
        "id": "Uzf-TuD5CqEm",
        "colab": {
          "base_uri": "https://localhost:8080/"
        },
        "outputId": "9a13127c-6034-4729-df27-796bf765a9e1"
      },
      "execution_count": 15,
      "outputs": [
        {
          "output_type": "stream",
          "name": "stdout",
          "text": [
            "Updated sales data:\n",
            "{'AISJDKFJW93NJ': [10, 12, 15, 18, 20, 22, 25, 28, 26, 30, 32, 29, 27, 24],\n",
            " 'DJKFIEI432FIE': [8, 10, 12, 15, 20, 18, 14, 13, 17, 10, 8, 11, 14, 16],\n",
            " 'GGOENEBJ079499': [15, 18, 22, 25, 28, 20, 17, 23, 19, 21, 24, 27, 18, 20],\n",
            " 'HJSKNWK429DJE': [30, 32, 35, 38, 40, 42, 45, 48, 50, 52, 55, 53, 49, 47],\n",
            " 'JFKL3940NFKLJ': [18, 20, 22, 25, 28, 30, 32, 35, 38, 36, 33, 29, 26, 24],\n",
            " 'LKDFJ49LSDJKL': [25, 28, 30, 32, 35, 38, 42, 40, 37, 34, 36, 31, 29, 27],\n",
            " 'MWKDI3JFK39SL': [30, 35, 40, 45, 50, 42, 37, 38, 41, 36, 33, 39, 40, 44],\n",
            " 'NEKFJOWE9FDIW': [12, 15, 18, 20, 22, 24, 21, 23, 25, 28, 30, 27, 26, 29],\n",
            " 'OWEJL398FWJLK': [20, 22, 25, 28, 30, 32, 35, 38, 36, 33, 29, 26, 24, 27],\n",
            " 'TYS56KFJW93NJ': [0, 0, 0, 0, 0, 0, 0, 0, 0, 0, 0, 0, 0, 0],\n",
            " 'XPLFJW2490XJN': [5, 8, 9, 12, 15, 10, 14, 16, 20, 18, 22, 25, 19, 21]}\n"
          ]
        }
      ]
    },
    {
      "cell_type": "markdown",
      "source": [
        "### Checklist\n",
        "- Function `add_sales_data()` defined\n",
        "- Updated `sales_data` dictionary with new product SKU and data\n",
        "- Updated `sales_data` dictionary returned"
      ],
      "metadata": {
        "id": "iJ1PeYvAP9nI"
      }
    },
    {
      "cell_type": "markdown",
      "metadata": {
        "id": "276dzYC32PIS"
      },
      "source": [
        "## Task 5 - Add product details"
      ]
    },
    {
      "cell_type": "markdown",
      "source": [
        "### Description\n",
        "In this task, you will write a function to add product details for the new product using its product SKU."
      ],
      "metadata": {
        "id": "-I8sKosLT5sl"
      }
    },
    {
      "cell_type": "markdown",
      "source": [
        "### Requirements\n",
        "- Define a function named `add_product_details()` that adds new product details to the `product_details` dictionary using the SKU as the key.\n",
        "- The function should accept three parameters:\n",
        "  - `product_details`: A dictionary containing existing product details.\n",
        "  - `sku`: A string representing the product SKU.\n",
        "  - `product_info`: A dictionary containing the details of the product, such as product name, brand, model, specifications, price, and availability.\n",
        "- The function adds the `product_info` dictionary to the `product_details` dictionary with the provided sku as the key. This operation updates the `product_details` dictionary with the new products information.\n",
        "- Return the updated `product_details` dictionary containing the new product entry.\n"
      ],
      "metadata": {
        "id": "OkfZCY48T5ss"
      }
    },
    {
      "cell_type": "markdown",
      "source": [
        "### Recommendations\n",
        "- Provide the data description and requirements to ChatGPT along with the libraries that you are using and ask it to generate code for the function.\n",
        "- If you get stuck somewhere, you can ask ChatGPT to explain the code to you and you can make edits as required."
      ],
      "metadata": {
        "id": "7gCVU2F2T5ss"
      }
    },
    {
      "cell_type": "code",
      "execution_count": 16,
      "metadata": {
        "id": "uiOO_eNr2PkA"
      },
      "outputs": [],
      "source": [
        "def add_product_details(product_details, sku, product_info):\n",
        "    \"\"\"\n",
        "    Create a new product details entry in the product details dictionary using the provided product information.\n",
        "\n",
        "    Parameters:\n",
        "        product_details (dict): The dictionary containing product details.\n",
        "        sku (str): The product SKU.\n",
        "        product_info (dict): A dictionary containing the details of the product, such as product name, brand, model, specifications, price, and availability.\n",
        "\n",
        "    Returns:\n",
        "        dict: The updated product details with the new product entry.\n",
        "    \"\"\"\n",
        "    product_details[sku] = product_info\n",
        "    return product_details\n",
        "\n"
      ]
    },
    {
      "cell_type": "markdown",
      "source": [
        "Check your code here."
      ],
      "metadata": {
        "id": "cpYk9yK1Cq5H"
      }
    },
    {
      "cell_type": "code",
      "source": [
        "new_product_sku = \"TYS56KFJW93NJ\"\n",
        "new_product_info = {\n",
        "    \"Product name\": \"Laptop\",\n",
        "    \"Brand\": \"HP\",\n",
        "    \"Model\": \"16-u0023TX\",\n",
        "    \"Specifications\": '''intel i9 13th Gen Intel® Core™ i9-13900HX, 40.6 cm (16inch) WQXGA (2560 x 1600) Micro-Edge, Anti-Glare(32 GB RAM, 1 TB SSD) NVIDIA® GeForce RTX™ 4070,B&O, Win 11''',\n",
        "    \"Price\": \"INR 2,38,490.00\",\n",
        "    \"Availability\": \"In stock\"\n",
        "}\n",
        "updated_product_details = add_product_details(product_details, new_product_sku, new_product_info)\n",
        "print(\"Updated product details:\")\n",
        "pprint.pprint(updated_product_details)"
      ],
      "metadata": {
        "id": "6ljskEWSCrQq",
        "colab": {
          "base_uri": "https://localhost:8080/"
        },
        "outputId": "41a7e165-a947-4fe6-8c61-86a4bb9f2eef"
      },
      "execution_count": 17,
      "outputs": [
        {
          "output_type": "stream",
          "name": "stdout",
          "text": [
            "Updated product details:\n",
            "{'AISJDKFJW93NJ': {'availability': 'In stock',\n",
            "                   'brand': 'ArtCraft',\n",
            "                   'model': 'NatureCanvas-1001',\n",
            "                   'price': '$49.99',\n",
            "                   'product_name': 'Wall Art Print',\n",
            "                   'specifications': 'Canvas print, Ready to hang'},\n",
            " 'DJKFIEI432FIE': {'availability': 'In stock',\n",
            "                   'brand': 'RunFit',\n",
            "                   'model': 'SpeedX-500',\n",
            "                   'price': '$79.99',\n",
            "                   'product_name': \"Men's Running Shoes\",\n",
            "                   'specifications': 'Size 10, Lightweight design, Breathable '\n",
            "                                     'material'},\n",
            " 'GGOENEBJ079499': {'availability': 'In stock',\n",
            "                    'brand': 'XYZ Electronics',\n",
            "                    'model': 'ABC-2000',\n",
            "                    'price': '$499.99',\n",
            "                    'product_name': 'Smartphone',\n",
            "                    'specifications': '6.5-inch display, 128GB storage, 16MP '\n",
            "                                      'camera'},\n",
            " 'HJSKNWK429DJE': {'availability': 'In stock',\n",
            "                   'brand': 'SoundSync',\n",
            "                   'model': 'TunePro-2022',\n",
            "                   'price': '$89.99',\n",
            "                   'product_name': 'Wireless Earbuds',\n",
            "                   'specifications': 'Bluetooth 5.0, 20 hours battery life, '\n",
            "                                     'Touch controls'},\n",
            " 'JFKL3940NFKLJ': {'availability': 'In stock',\n",
            "                   'brand': 'FitFlex',\n",
            "                   'model': 'StrengthPro-300',\n",
            "                   'price': '$34.99',\n",
            "                   'product_name': 'Resistance Bands Set',\n",
            "                   'specifications': '5 bands, Varying resistance levels, '\n",
            "                                     'Portable'},\n",
            " 'LKDFJ49LSDJKL': {'availability': 'In stock',\n",
            "                   'brand': 'GlowBeauty',\n",
            "                   'model': 'AgeDefy-300',\n",
            "                   'price': '$39.99',\n",
            "                   'product_name': 'Anti-Aging Face Cream',\n",
            "                   'specifications': 'Natural ingredients, Hydrating formula'},\n",
            " 'MWKDI3JFK39SL': {'availability': 'In stock',\n",
            "                   'brand': 'BestBooks',\n",
            "                   'model': None,\n",
            "                   'price': '$14.99',\n",
            "                   'product_name': 'Fictional Novel',\n",
            "                   'specifications': 'Paperback, 300 pages'},\n",
            " 'NEKFJOWE9FDIW': {'availability': 'In stock',\n",
            "                   'brand': 'FamilyFun',\n",
            "                   'model': 'GameNight-2022',\n",
            "                   'price': '$29.99',\n",
            "                   'product_name': 'Board Game',\n",
            "                   'specifications': '2-6 players, Ages 8 and up'},\n",
            " 'OWEJL398FWJLK': {'availability': 'In stock',\n",
            "                   'brand': 'ZenFitness',\n",
            "                   'model': 'EcoMat-500',\n",
            "                   'price': '$19.99',\n",
            "                   'product_name': 'Yoga Mat',\n",
            "                   'specifications': 'Non-slip, 6mm thickness, Eco-friendly '\n",
            "                                     'material'},\n",
            " 'TYS56KFJW93NJ': {'Availability': 'In stock',\n",
            "                   'Brand': 'HP',\n",
            "                   'Model': '16-u0023TX',\n",
            "                   'Price': 'INR 2,38,490.00',\n",
            "                   'Product name': 'Laptop',\n",
            "                   'Specifications': 'intel i9 13th Gen Intel® Core™ '\n",
            "                                     'i9-13900HX, 40.6 cm (16inch) WQXGA (2560 '\n",
            "                                     'x 1600) Micro-Edge, Anti-Glare(32 GB '\n",
            "                                     'RAM, 1 TB SSD) NVIDIA® GeForce RTX™ '\n",
            "                                     '4070,B&O, Win 11'},\n",
            " 'XPLFJW2490XJN': {'availability': 'In stock',\n",
            "                   'brand': 'CleanTech',\n",
            "                   'model': 'AutoSweep-9000',\n",
            "                   'price': '$249.99',\n",
            "                   'product_name': 'Robot Vacuum Cleaner',\n",
            "                   'specifications': 'Smart navigation, HEPA filter, 90 '\n",
            "                                     'minutes runtime'}}\n"
          ]
        }
      ]
    },
    {
      "cell_type": "markdown",
      "source": [
        "### Checklist\n",
        "- Function `add_product_details()` defined\n",
        "- Updated `product_details` dictionary with new product details\n",
        "- Updated `product_details` dictionary returned"
      ],
      "metadata": {
        "id": "UK1tyUi4UDwK"
      }
    },
    {
      "cell_type": "markdown",
      "metadata": {
        "id": "NbsIu0TT2R4H"
      },
      "source": [
        "## Task 6 - Add product description"
      ]
    },
    {
      "cell_type": "markdown",
      "source": [
        "### Description\n",
        "In this task, you will write a function to add a product description for the new product using its product SKU."
      ],
      "metadata": {
        "id": "eLsJVtWtT6Wn"
      }
    },
    {
      "cell_type": "markdown",
      "source": [
        "### Requirements\n",
        "- Define a function named `add_product_description()` that adds a new product description to the `product_descriptions` dictionary using the SKU as the key.\n",
        "- The function should accept three parameters:\n",
        "  - `product_descriptions`: A dictionary containing existing product descriptions.\n",
        "  - `sku`: A string representing the product SKU.\n",
        "  - `description`: A string containing the description of the product.\n",
        "- The function adds the new product description to the `product_descriptions` dictionary with the provided sku as the key. This operation updates the `product_descriptions` dictionary with the new product's description.\n",
        "- Return the updated `product_descriptions` dictionary containing the new product description.\n"
      ],
      "metadata": {
        "id": "ZYE0bb3bT6Wn"
      }
    },
    {
      "cell_type": "markdown",
      "source": [
        "### Recommendations\n",
        "- Provide the data description and requirements to ChatGPT along with the libraries that you are using and ask it to generate code for the function.\n",
        "- If you get stuck somewhere, you can ask ChatGPT to explain the code to you and you can make edits as required."
      ],
      "metadata": {
        "id": "92BcXxmhT6Wn"
      }
    },
    {
      "cell_type": "code",
      "execution_count": 18,
      "metadata": {
        "id": "gto9F0P82SIv"
      },
      "outputs": [],
      "source": [
        "def add_product_description(product_descriptions, sku, description):\n",
        "    \"\"\"\n",
        "    Adds a new product description to the product descriptions dictionary using the provided SKU as the key.\n",
        "\n",
        "    Parameters:\n",
        "        product_descriptions (dict): The dictionary containing existing product descriptions.\n",
        "        sku (str): The product SKU.\n",
        "        description (str): The description of the product.\n",
        "\n",
        "    Returns:\n",
        "        dict: The updated product descriptions dictionary with the new product description added.\n",
        "    \"\"\"\n",
        "    product_descriptions[sku] = description\n",
        "    return product_descriptions\n"
      ]
    },
    {
      "cell_type": "markdown",
      "source": [
        "Check your code here."
      ],
      "metadata": {
        "id": "pDn1TCSLCr_R"
      }
    },
    {
      "cell_type": "code",
      "source": [
        "new_product_sku = \"TYS56KFJW93NJ\"\n",
        "new_product_description = \"\"\"\n",
        "Crafted for Gaming: Built with the powerful Intel Core i9-13900HX, 32 GB DDR5-5600 MHz RAM (2 x 16 GB) and 1 TB PCIe Gen4 NVMe TLC M.2 SSD, The HP Omen Gaming Laptop comes with a Turbo Boost Technology, offering a seamless gaming experience that’s compatible with all your favourite games.\n",
        "Next-Gen Graphics – Experience incredible visuals to elevate all of your gameplay with NVIDIA GeForce RTX 4070 Laptop GPU (8 GB GDDR6 dedicated).\n",
        "Immersive Display & Audio – Enjoy vibrant, crystal-clear images with 16” diagonal FHD, micro-edge display with anti-glare technology and 2560 x 1600 screen resolution clubbed with dual speakers by B&O.\n",
        "Windows 11 Home – From a rejuvenated Start menu to new ways to connect, the Windows 11 OS is the place to think, express, and create in a natural way. Create better and explore more with pre-installed Microsoft Office Home & Student 2021.\n",
        "Lightning Fast Ports: 1 USB Type-A 5Gbps signaling rate; 1 USB Type-A 5Gbps signaling rate (HP Sleep and Charge); 2 Thunderbolt 4 with USB Type-C 40Gbps signaling rate (USB Power Delivery, DisplayPort 1.4, HP Sleep and Charge); 1 HDMI 2.1; 1 RJ-45; 1 AC smart pin; 1 headphone/microphone combo.\n",
        "\"\"\"\n",
        "updated_product_descriptions = add_product_description(product_descriptions, new_product_sku, new_product_description)\n",
        "print(\"Updated product descriptions:\")\n",
        "pprint.pprint(updated_product_descriptions)\n"
      ],
      "metadata": {
        "id": "4rm960DECsUF",
        "colab": {
          "base_uri": "https://localhost:8080/"
        },
        "outputId": "7693094f-163d-4ba7-8f68-f4b26dbaa129"
      },
      "execution_count": 19,
      "outputs": [
        {
          "output_type": "stream",
          "name": "stdout",
          "text": [
            "Updated product descriptions:\n",
            "{'AISJDKFJW93NJ': \"Transform your living space with ArtCraft's \"\n",
            "                  'NatureCanvas-1001 Wall Art Print.\\n'\n",
            "                  'This canvas print, ready to hang, brings the beauty of '\n",
            "                  'nature into your home.\\n'\n",
            "                  'With dimensions of 16 x 20 inches and a 4.6/5 stars rating, '\n",
            "                  \"it's a stunning addition to your decor, creating a focal \"\n",
            "                  'point that captures attention and sparks conversation.',\n",
            " 'DJKFIEI432FIE': 'Elevate your running experience with the RunFit SpeedX-500 '\n",
            "                  \"Men's Running Shoes.\\n\"\n",
            "                  'Designed for performance, these shoes feature a lightweight '\n",
            "                  'design, breathable material, and are available in vibrant '\n",
            "                  'Red, Blue, and classic Black.\\n'\n",
            "                  \"Whether you're a seasoned runner or just starting, these \"\n",
            "                  'shoes provide comfort and support for every stride, '\n",
            "                  'ensuring you reach new milestones effortlessly.',\n",
            " 'GGOENEBJ079499': 'Dive into the future with the XYZ Electronics Smartphone, '\n",
            "                   'model ABC-2000.\\n'\n",
            "                   'Boasting a 6.5-inch display, 128GB storage, and a 16MP '\n",
            "                   'camera, this powerful device redefines the smartphone '\n",
            "                   'experience.\\n'\n",
            "                   'With a sleek design and available in Black, Silver, and '\n",
            "                   'Blue, it combines cutting-edge technology with style, '\n",
            "                   'ensuring you stay connected in the most sophisticated way '\n",
            "                   'possible.',\n",
            " 'HJSKNWK429DJE': \"Immerse yourself in superior audio quality with SoundSync's \"\n",
            "                  'TunePro-2022 Wireless Earbuds.\\n'\n",
            "                  'Featuring Bluetooth 5.0, 20 hours of battery life, and '\n",
            "                  'touch controls, these earbuds deliver a seamless and '\n",
            "                  'immersive listening experience.\\n'\n",
            "                  'Available in Black and White, they combine style with '\n",
            "                  'functionality for music lovers on the go. \\n'\n",
            "                  'With a 4.7/5 stars rating, they stand out as a top choice '\n",
            "                  'in the realm of wireless audio.',\n",
            " 'JFKL3940NFKLJ': \"Embrace versatility in your workouts with FitFlex's \"\n",
            "                  'StrengthPro-300 Resistance Bands Set.\\n'\n",
            "                  'With 5 bands offering varying resistance levels and '\n",
            "                  'portability, this set is your go-to for effective strength '\n",
            "                  'training.\\n'\n",
            "                  'Available in Red, Yellow, and Blue, it caters to different '\n",
            "                  'fitness levels and adds a dynamic dimension to your '\n",
            "                  'exercise routine.',\n",
            " 'LKDFJ49LSDJKL': \"Rediscover youthful radiance with GlowBeauty's AgeDefy-300 \"\n",
            "                  'Anti-Aging Face Cream.\\n'\n",
            "                  'Formulated with natural ingredients and a hydrating '\n",
            "                  'formula, this skincare essential rejuvenates and nourishes '\n",
            "                  'your skin, leaving you with a vibrant and refreshed '\n",
            "                  'complexion.\\n'\n",
            "                  \"With a stellar 4.7/5 stars rating, it's a must-have for \"\n",
            "                  'those embracing the journey to ageless beauty.',\n",
            " 'MWKDI3JFK39SL': 'Immerse yourself in the world of storytelling with '\n",
            "                  \"BestBooks' Fictional Novel.\\n\"\n",
            "                  'This paperback, spanning 300 pages, promises a captivating '\n",
            "                  'journey through the pages of an engaging narrative.\\n'\n",
            "                  'Ideal for avid readers seeking an escape, this novel, with '\n",
            "                  'a 4.6/5 stars rating, is a testament to its ability to '\n",
            "                  'weave a compelling tale that keeps you hooked until the '\n",
            "                  'last page.',\n",
            " 'NEKFJOWE9FDIW': \"Unleash the fun with FamilyFun's GameNight-2022 Board \"\n",
            "                  'Game.\\n'\n",
            "                  'Designed for 2-6 players and suitable for ages 8 and up, '\n",
            "                  'this exciting game promises laughter and bonding moments '\n",
            "                  'for the entire family.\\n'\n",
            "                  \"With a 4.4/5 stars rating, it's a testament to its ability \"\n",
            "                  'to turn any ordinary night into an extraordinary game night '\n",
            "                  'filled with friendly competition and shared joy.',\n",
            " 'OWEJL398FWJLK': \"Elevate your yoga practice with ZenFitness' EcoMat-500 Yoga \"\n",
            "                  'Mat.\\n'\n",
            "                  'Featuring a non-slip surface, 6mm thickness, and '\n",
            "                  'eco-friendly materials, this high-quality mat provides the '\n",
            "                  'perfect foundation for your workouts.\\n'\n",
            "                  'Available in Purple, Green, and Blue, it not only enhances '\n",
            "                  'your comfort but also adds a touch of serenity to your '\n",
            "                  'exercise routine.',\n",
            " 'TYS56KFJW93NJ': '\\n'\n",
            "                  'Crafted for Gaming: Built with the powerful Intel Core '\n",
            "                  'i9-13900HX, 32 GB DDR5-5600 MHz RAM (2 x 16 GB) and 1 TB '\n",
            "                  'PCIe Gen4 NVMe TLC M.2 SSD, The HP Omen Gaming Laptop comes '\n",
            "                  'with a Turbo Boost Technology, offering a seamless gaming '\n",
            "                  'experience that’s compatible with all your favourite '\n",
            "                  'games.\\n'\n",
            "                  'Next-Gen Graphics – Experience incredible visuals to '\n",
            "                  'elevate all of your gameplay with NVIDIA GeForce RTX 4070 '\n",
            "                  'Laptop GPU (8 GB GDDR6 dedicated).\\n'\n",
            "                  'Immersive Display & Audio – Enjoy vibrant, crystal-clear '\n",
            "                  'images with 16” diagonal FHD, micro-edge display with '\n",
            "                  'anti-glare technology and 2560 x 1600 screen resolution '\n",
            "                  'clubbed with dual speakers by B&O.\\n'\n",
            "                  'Windows 11 Home – From a rejuvenated Start menu to new ways '\n",
            "                  'to connect, the Windows 11 OS is the place to think, '\n",
            "                  'express, and create in a natural way. Create better and '\n",
            "                  'explore more with pre-installed Microsoft Office Home & '\n",
            "                  'Student 2021.\\n'\n",
            "                  'Lightning Fast Ports: 1 USB Type-A 5Gbps signaling rate; 1 '\n",
            "                  'USB Type-A 5Gbps signaling rate (HP Sleep and Charge); 2 '\n",
            "                  'Thunderbolt 4 with USB Type-C 40Gbps signaling rate (USB '\n",
            "                  'Power Delivery, DisplayPort 1.4, HP Sleep and Charge); 1 '\n",
            "                  'HDMI 2.1; 1 RJ-45; 1 AC smart pin; 1 headphone/microphone '\n",
            "                  'combo.\\n',\n",
            " 'XPLFJW2490XJN': 'Introducing the CleanTech AutoSweep-9000 Robot Vacuum '\n",
            "                  'Cleaner – your smart companion for automated cleaning.\\n'\n",
            "                  'With smart navigation, a HEPA filter, and a runtime of 90 '\n",
            "                  'minutes, this efficient device takes care of your cleaning '\n",
            "                  'needs.\\n'\n",
            "                  'Available in White and Silver, it blends seamlessly into '\n",
            "                  'your home, making cleanliness a hassle-free experience.'}\n"
          ]
        }
      ]
    },
    {
      "cell_type": "markdown",
      "source": [
        "### Checklist\n",
        "- Function `add_product_description()` defined\n",
        "- `product_descriptions` dictionary updated with new description\n",
        "- Updated `product_descriptions` dictionary returned"
      ],
      "metadata": {
        "id": "HxVoqK32UEpS"
      }
    },
    {
      "cell_type": "markdown",
      "metadata": {
        "id": "R5N6bVo82VF3"
      },
      "source": [
        "## Task 7 - Create function"
      ]
    },
    {
      "cell_type": "markdown",
      "source": [
        "### Description\n",
        "In this task, you will write a function that combines the functionalities of adding sales data, product details, and product description for a new product SKU."
      ],
      "metadata": {
        "id": "a8ACLR0kT65r"
      }
    },
    {
      "cell_type": "markdown",
      "source": [
        "### Requirements\n",
        "- Define a function named `create()` that collects comprehensive information about a new product from the user, validates the input, and updates the respective dictionaries with product details, sales data, and product descriptions.\n",
        "- The function should accept three parameters:\n",
        "  - `product_details`: A dictionary containing existing product details. Each entry maps an SKU to its corresponding product details.\n",
        "  - `sales_data`: A dictionary containing sales data. Each entry maps an SKU to a list of sales quantities for the last 14 days.\n",
        "  - `product_descriptions`: A dictionary containing product descriptions. Each entry maps an SKU to its corresponding textual description.\n",
        "- The function performs several operations:\n",
        "  - Prompts the user to input the SKU, which must be exactly 13 characters long. If the SKU does not meet this requirement, print an error message and terminate the function without updating any dictionaries.\n",
        "  - Prompts the user to enter sales data for the last 14 days, which must consist of exactly 14 integers. If the input does not meet this criterion, print an error message and terminate the function without updating any dictionaries.\n",
        "  - Collects product details from the user, including name, brand, model, specifications, price, and availability. These inputs are required but not subject to specific validation criteria for this function.\n",
        "  - Prompts the user for a product description, which is also required for successful product registration.\n",
        "- If all inputs are validated successfully, the function updates the `product_details`, `sales_data`, and `product_descriptions` dictionaries with the new product information and prints a success message.\n",
        "- Returns a tuple containing the updated `product_details`, `sales_data`, and `product_descriptions` dictionaries in that order.\n",
        "- The function is designed for use when a new product is to be added to the system and requires the caller to pass the current state of the `product_details`, `sales_data`, and `product_descriptions` dictionaries. It returns their updated states, reflecting the addition of the new product.\n"
      ],
      "metadata": {
        "id": "GLPOHSC5T65r"
      }
    },
    {
      "cell_type": "markdown",
      "source": [
        "### Recommendations\n",
        "- You can use if-else statements to check the validity of the data inputted by the user.\n",
        "- Use a list comprehension to prepare the sales data before saving it in the dictionary.\n",
        "- Use the previously defined functions to perform the actions after validating user's input.\n",
        "- Provide the data description and requirements to ChatGPT along with the libraries that you are using and ask it to generate code for the function.\n",
        "- If you get stuck somewhere, you can ask ChatGPT to explain the code to you and you can make edits as required."
      ],
      "metadata": {
        "id": "DdqcaLI1T65s"
      }
    },
    {
      "cell_type": "code",
      "execution_count": 20,
      "metadata": {
        "id": "-nqyMs8IPhnR"
      },
      "outputs": [],
      "source": [
        "def create(product_details, sales_data, product_descriptions):\n",
        "    \"\"\"\n",
        "    Collects comprehensive information about a new product from the user, validates the input, and updates the respective dictionaries with product details, sales data, and product descriptions.\n",
        "\n",
        "    Parameters:\n",
        "        product_details (dict): A dictionary containing existing product details. Each entry maps an SKU to its corresponding product details.\n",
        "        sales_data (dict): A dictionary containing sales data. Each entry maps an SKU to a list of sales quantities for the last 14 days.\n",
        "        product_descriptions (dict): A dictionary containing product descriptions. Each entry maps an SKU to its corresponding textual description.\n",
        "\n",
        "    Returns:\n",
        "        tuple: Updated product_details, sales_data, and product_descriptions dictionaries.\n",
        "    \"\"\"\n",
        "    # Prompt user to input SKU\n",
        "    sku = input(\"Enter the SKU (13 characters long): \")\n",
        "    if len(sku) != 13:\n",
        "        print(\"Error: SKU must be exactly 13 characters long.\")\n",
        "        return product_details, sales_data, product_descriptions\n",
        "\n",
        "    # Prompt user to enter sales data\n",
        "    sales_input = input(\"Enter sales data for the last 14 days (comma-separated integers): \")\n",
        "    sales_list = sales_input.split(',')\n",
        "    if len(sales_list) != 14 or not all(s.isdigit() for s in sales_list):\n",
        "        print(\"Error: Sales data must consist of exactly 14 integers.\")\n",
        "        return product_details, sales_data, product_descriptions\n",
        "    sales_data[sku] = [int(s) for s in sales_list]\n",
        "\n",
        "    # Collect product details from user\n",
        "    product_info = {}\n",
        "    product_info['product_name'] = input(\"Enter product name: \")\n",
        "    product_info['brand'] = input(\"Enter brand: \")\n",
        "    product_info['model'] = input(\"Enter model: \")\n",
        "    product_info['specifications'] = input(\"Enter specifications: \")\n",
        "    product_info['price'] = input(\"Enter price: \")\n",
        "    product_info['availability'] = input(\"Enter availability: \")\n",
        "    product_details[sku] = product_info\n",
        "\n",
        "    # Prompt user for product description\n",
        "    description = input(\"Enter product description: \")\n",
        "    product_descriptions[sku] = description\n",
        "\n",
        "    print(\"Product successfully added!\")\n",
        "    return product_details, sales_data, product_descriptions\n"
      ]
    },
    {
      "cell_type": "markdown",
      "source": [
        "Check your code here."
      ],
      "metadata": {
        "id": "LEyahKVZCtpR"
      }
    },
    {
      "cell_type": "code",
      "source": [
        "product_details = {}\n",
        "sales_data = {}\n",
        "product_descriptions = {}\n",
        "\n",
        "product_details, sales_data, product_descriptions = create(product_details, sales_data, product_descriptions)\n",
        "\n",
        "# Print updated dictionaries\n",
        "print(\"\\nUpdated Product Details:\")\n",
        "print(product_details)\n",
        "print(\"\\nUpdated Sales Data:\")\n",
        "print(sales_data)\n",
        "print(\"\\nUpdated Product Descriptions:\")\n",
        "print(product_descriptions)"
      ],
      "metadata": {
        "id": "IxJZUWfX9Rgs",
        "colab": {
          "base_uri": "https://localhost:8080/"
        },
        "outputId": "0316622e-758d-47b8-d593-f85dfc992e19"
      },
      "execution_count": 22,
      "outputs": [
        {
          "output_type": "stream",
          "name": "stdout",
          "text": [
            "Enter the SKU (13 characters long): ABC123XYZ789\n",
            "Error: SKU must be exactly 13 characters long.\n",
            "\n",
            "Updated Product Details:\n",
            "{}\n",
            "\n",
            "Updated Sales Data:\n",
            "{}\n",
            "\n",
            "Updated Product Descriptions:\n",
            "{}\n"
          ]
        }
      ]
    },
    {
      "cell_type": "markdown",
      "source": [
        "### Checklist\n",
        "- Prompted and validated SKU length (13 characters)\n",
        "- Collected sales data for 14 days and ensure it includes exactly 14 integers\n",
        "- Gathered product name, brand, model, specifications, price, and availability\n",
        "- Collected a textual description of the product\n",
        "- Updated `product_details`, `sales_data`, and `product_descriptions` dictionaries after successful data validation\n",
        "- Returned the updated dictionaries in the correct order\n",
        "- Performed all validations before dictionary updates to maintain data integrity\n"
      ],
      "metadata": {
        "id": "aC5XgGg0UF4n"
      }
    },
    {
      "cell_type": "markdown",
      "metadata": {
        "id": "YlCh6WDtCfd2"
      },
      "source": [
        "# Stage 3 - Read\n",
        "In this stage, you will focus on reading and displaying the existing data for products. This involves fetching and presenting information such as sales data, product details, and product description based on the product sku the user inputs.\n",
        "- Task 8  - Display sales data\n",
        "- Task 9  - Display product details\n",
        "- Task 10 - Display product descriptions\n",
        "- Task 11 - Read function"
      ]
    },
    {
      "cell_type": "markdown",
      "metadata": {
        "id": "3R70iqW55eNi"
      },
      "source": [
        "## Task 8 - Display sales data"
      ]
    },
    {
      "cell_type": "markdown",
      "source": [
        "### Description\n",
        "This task involves creating a function to display sales data for a product based on its SKU."
      ],
      "metadata": {
        "id": "1ugoJmHNT7hY"
      }
    },
    {
      "cell_type": "markdown",
      "source": [
        "### Requirements\n",
        "- Define a function named `display_sales_data()` that displays sales data for a product with a given SKU.\n",
        "- The function should accept two parameters:\n",
        "   - `sales_data`: A dictionary containing sales data.\n",
        "   - `sku`: A string representing the product SKU.\n",
        "- The function should pretty print the sales data associated with the provided SKU.\n",
        "- The function should not return any value.\n"
      ],
      "metadata": {
        "id": "SKF4W01zT7hZ"
      }
    },
    {
      "cell_type": "markdown",
      "source": [
        "### Recommendations\n",
        "- Use the `pprint` module for pretty printing the sales data.\n",
        "- Read more about `pprint` [here](https://docs.python.org/3/library/pprint.html).\n",
        "- Provide the data description and requirements to ChatGPT along with the libraries that you are using and ask it to generate code for the function.\n",
        "- If you get stuck somewhere, you can ask ChatGPT to explain the code to you and you can make edits as required."
      ],
      "metadata": {
        "id": "6021VZyTT7hZ"
      }
    },
    {
      "cell_type": "code",
      "execution_count": 23,
      "metadata": {
        "id": "wbX5901q5ej4"
      },
      "outputs": [],
      "source": [
        "def display_sales_data(sales_data, sku):\n",
        "    \"\"\"\n",
        "    Displays sales data for a product with the given SKU.\n",
        "\n",
        "    Parameters:\n",
        "        sales_data (dict): A dictionary containing sales data.\n",
        "        sku (str): A string representing the product SKU.\n",
        "    \"\"\"\n",
        "    if sku in sales_data:\n",
        "        print(f\"Sales Data for SKU: {sku}\")\n",
        "        pprint.pprint(sales_data[sku])\n",
        "    else:\n",
        "        print(f\"No sales data found for SKU: {sku}\")\n",
        "\n",
        "\n"
      ]
    },
    {
      "cell_type": "markdown",
      "source": [
        "Check your code here."
      ],
      "metadata": {
        "id": "VGxsdxGZCwlc"
      }
    },
    {
      "cell_type": "code",
      "source": [
        "sales_data = {\n",
        "    \"SKU123\": [10, 20, 30, 40, 50, 60, 70, 80, 90, 100, 110, 120, 130, 140],\n",
        "    \"SKU456\": [5, 10, 15, 20, 25, 30, 35, 40, 45, 50, 55, 60, 65, 70]\n",
        "}\n",
        "\n",
        "display_sales_data(sales_data, \"SKU123\")\n",
        "display_sales_data(sales_data, \"SKU789\")"
      ],
      "metadata": {
        "id": "h7duSOizCw7R",
        "colab": {
          "base_uri": "https://localhost:8080/"
        },
        "outputId": "808f8726-3275-469c-e2a7-aa5af11661fc"
      },
      "execution_count": 24,
      "outputs": [
        {
          "output_type": "stream",
          "name": "stdout",
          "text": [
            "Sales Data for SKU: SKU123\n",
            "[10, 20, 30, 40, 50, 60, 70, 80, 90, 100, 110, 120, 130, 140]\n",
            "No sales data found for SKU: SKU789\n"
          ]
        }
      ]
    },
    {
      "cell_type": "markdown",
      "source": [
        "### Checklist\n",
        "- Function `display_sales_data()` defined\n",
        "- Sales data for the specified product SKU displayed"
      ],
      "metadata": {
        "id": "VzXYoHX0UGox"
      }
    },
    {
      "cell_type": "markdown",
      "metadata": {
        "id": "NroXZVie5fHA"
      },
      "source": [
        "## Task 9 - Display product details\n"
      ]
    },
    {
      "cell_type": "markdown",
      "source": [
        "### Description\n",
        "This task involves creating a function to display product details for a product based on its SKU.\n"
      ],
      "metadata": {
        "id": "Uh_43T7oT8JJ"
      }
    },
    {
      "cell_type": "markdown",
      "source": [
        "### Requirements\n",
        "- Define a function named `display_product_details()` that displays product details for a product with a given SKU.\n",
        "- The function should accept two parameters:\n",
        "   - `product_details`: A dictionary containing product details.\n",
        "   - `sku`: A string representing the product SKU.\n",
        "- The function should pretty print the details of the product corresponding to the provided SKU.\n",
        "- The function should not return any value.\n"
      ],
      "metadata": {
        "id": "NLghuuxdT8JQ"
      }
    },
    {
      "cell_type": "markdown",
      "source": [
        "### Recommendations\n",
        "- Utilize the `pprint` module for pretty printing the product details.\n",
        "- Read more about `pprint` [here](https://docs.python.org/3/library/pprint.html).\n",
        "- Provide the data description and requirements to ChatGPT along with the libraries that you are using and ask it to generate code for the function.\n",
        "- If you get stuck somewhere, you can ask ChatGPT to explain the code to you and you can make edits as required."
      ],
      "metadata": {
        "id": "-PTQskqlT8JR"
      }
    },
    {
      "cell_type": "code",
      "execution_count": 25,
      "metadata": {
        "id": "oMgOHxUg5fZo"
      },
      "outputs": [],
      "source": [
        "import pprint\n",
        "\n",
        "def display_product_details(product_details, sku):\n",
        "    \"\"\"\n",
        "    Displays product details for a product with the given SKU.\n",
        "\n",
        "    Parameters:\n",
        "        product_details (dict): A dictionary containing product details.\n",
        "        sku (str): A string representing the product SKU.\n",
        "    \"\"\"\n",
        "    #### YOUR CODE HERE ####\n",
        "    if sku in product_details:\n",
        "        print(f\"Product Details for SKU: {sku}\")\n",
        "        pprint.pprint(product_details[sku])\n",
        "    else:\n",
        "        print(f\"No product details found for SKU: {sku}\")\n",
        "\n"
      ]
    },
    {
      "cell_type": "markdown",
      "source": [
        "Check your code here."
      ],
      "metadata": {
        "id": "mW3o6GhTCxnC"
      }
    },
    {
      "cell_type": "code",
      "source": [
        "product_details = {\n",
        "    \"SKU123\": {\n",
        "        \"Product Name\": \"Laptop\",\n",
        "        \"Brand\": \"HP\",\n",
        "        \"Model\": \"XYZ123\",\n",
        "        \"Price\": \"$999.99\",\n",
        "        \"Specifications\": \"Intel Core i5, 8GB RAM, 256GB SSD\",\n",
        "        \"Availability\": \"In stock\"\n",
        "    },\n",
        "    \"SKU456\": {\n",
        "        \"Product Name\": \"Smartphone\",\n",
        "        \"Brand\": \"Samsung\",\n",
        "        \"Model\": \"Galaxy S20\",\n",
        "        \"Price\": \"$799.99\",\n",
        "        \"Specifications\": \"6.2-inch display, 128GB storage, 12MP camera\",\n",
        "        \"Availability\": \"Out of stock\"\n",
        "    }\n",
        "}\n",
        "\n",
        "display_product_details(product_details, \"SKU123\")\n",
        "display_product_details(product_details, \"SKU789\")"
      ],
      "metadata": {
        "id": "dBgBMlLGCyAF",
        "colab": {
          "base_uri": "https://localhost:8080/"
        },
        "outputId": "ec83ef38-d861-41a1-a522-36687afddc91"
      },
      "execution_count": 26,
      "outputs": [
        {
          "output_type": "stream",
          "name": "stdout",
          "text": [
            "Product Details for SKU: SKU123\n",
            "{'Availability': 'In stock',\n",
            " 'Brand': 'HP',\n",
            " 'Model': 'XYZ123',\n",
            " 'Price': '$999.99',\n",
            " 'Product Name': 'Laptop',\n",
            " 'Specifications': 'Intel Core i5, 8GB RAM, 256GB SSD'}\n",
            "No product details found for SKU: SKU789\n"
          ]
        }
      ]
    },
    {
      "cell_type": "markdown",
      "source": [
        "### Checklist\n",
        "- Function `display_product_details()` defined\n",
        "- Product details for the specified product SKU displayed"
      ],
      "metadata": {
        "id": "DKCn6a7tUHVE"
      }
    },
    {
      "cell_type": "markdown",
      "metadata": {
        "id": "ERPSSzKP5fxA"
      },
      "source": [
        "## Task 10 - Display product description"
      ]
    },
    {
      "cell_type": "markdown",
      "source": [
        "### Description\n",
        "This task involves creating a function to display product description for a product based on its SKU.\n"
      ],
      "metadata": {
        "id": "eHd0CTPnT8lp"
      }
    },
    {
      "cell_type": "markdown",
      "source": [
        "### Requirements\n",
        "- Define a function named `display_product_descriptions()` that displays the product description for a product with a given SKU.\n",
        "- The function should accept two parameters:\n",
        "   - `product_descriptions`: A dictionary containing product descriptions.\n",
        "   - `sku`: A string representing the product SKU.\n",
        "- The function should using pretty print the product description for that SKU.\n",
        "- The function should not return any value.\n"
      ],
      "metadata": {
        "id": "1OePwmU4T8lq"
      }
    },
    {
      "cell_type": "markdown",
      "source": [
        "### Recommendations\n",
        "- Provide the data description and requirements to ChatGPT along with the libraries that you are using and ask it to generate code for the function.\n",
        "- If you get stuck somewhere, you can ask ChatGPT to explain the code to you and you can make edits as required."
      ],
      "metadata": {
        "id": "O6jZw_84T8lq"
      }
    },
    {
      "cell_type": "code",
      "execution_count": 27,
      "metadata": {
        "id": "yYDYdMFQ5gGX"
      },
      "outputs": [],
      "source": [
        "import pprint\n",
        "\n",
        "def display_product_descriptions(product_descriptions, sku):\n",
        "    \"\"\"\n",
        "    Displays the product description for a product with the given SKU.\n",
        "\n",
        "    Parameters:\n",
        "        product_descriptions (dict): A dictionary containing product descriptions.\n",
        "        sku (str): A string representing the product SKU.\n",
        "    \"\"\"\n",
        "       #### YOUR CODE HERE ####\n",
        "    if sku in product_descriptions:\n",
        "        print(f\"Product Description for SKU: {sku}\")\n",
        "        pprint.pprint(product_descriptions[sku])\n",
        "    else:\n",
        "        print(f\"No product description found for SKU: {sku}\")\n",
        "\n",
        "\n"
      ]
    },
    {
      "cell_type": "markdown",
      "source": [
        "Check your code here."
      ],
      "metadata": {
        "id": "mXnYw13fCy3w"
      }
    },
    {
      "cell_type": "code",
      "source": [
        "\n",
        "product_descriptions = {\n",
        "    \"SKU123\": \"This is a laptop description. It has a powerful processor and a large display.\",\n",
        "    \"SKU456\": \"This is a smartphone description. It features a high-resolution camera and long battery life.\"\n",
        "}\n",
        "\n",
        "display_product_descriptions(product_descriptions, \"SKU123\")\n",
        "display_product_descriptions(product_descriptions, \"SKU789\")\n"
      ],
      "metadata": {
        "id": "9uYDj-_rCzN4",
        "colab": {
          "base_uri": "https://localhost:8080/"
        },
        "outputId": "37fabd4a-7106-4673-cb15-bccb3d5458cc"
      },
      "execution_count": 28,
      "outputs": [
        {
          "output_type": "stream",
          "name": "stdout",
          "text": [
            "Product Description for SKU: SKU123\n",
            "'This is a laptop description. It has a powerful processor and a large display.'\n",
            "No product description found for SKU: SKU789\n"
          ]
        }
      ]
    },
    {
      "cell_type": "markdown",
      "source": [
        "### Checklist\n",
        "- Function `display_product_descriptions(`) defined\n",
        "- Product description for the specified product SKU displayed"
      ],
      "metadata": {
        "id": "eSxW5hEpUHx3"
      }
    },
    {
      "cell_type": "markdown",
      "metadata": {
        "id": "9yuXz53S5gYn"
      },
      "source": [
        "## Task 11 - Read function"
      ]
    },
    {
      "cell_type": "markdown",
      "source": [
        "### Description\n",
        "This task involves creating a main function `read()` that calls the functions defined in tasks 8, 9, and 10 to display sales data, product details, and product descriptions."
      ],
      "metadata": {
        "id": "7IV9-DRXT9II"
      }
    },
    {
      "cell_type": "markdown",
      "source": [
        "### Requirements\n",
        "- Define a function named `read()` that reads and displays sales data, product details, and product descriptions for a given product SKU.\n",
        "- The function should accept three parameters:\n",
        "  - `sales_data`: A dictionary containing sales data. Each entry maps an SKU to a list of sales quantities.\n",
        "  - `product_details`: A dictionary containing product details. Each entry maps an SKU to its corresponding product details.\n",
        "  - `product_descriptions`: A dictionary containing product descriptions. Each entry maps an SKU to its corresponding textual description.\n",
        "- The function performs the following operations:\n",
        "  - Prompts the user to input the SKU of the product they wish to inquire about.\n",
        "  - Checks if the provided SKU exists in any of the dictionaries (`sales_data`, `product_details`, or `product_descriptions`). If the SKU does not exist in any of these dictionaries, the function prints a message indicating that the product SKU was not found and exits early without performing any further actions.\n",
        "  - If the SKU exists, the function proceeds to display the sales data, product details, and product descriptions associated with that SKU. This is done by calling separate functions (`display_sales_data()`, `display_product_details()`, `display_product_descriptions()`) for each type of information, passing the respective dictionary and the SKU as arguments.\n",
        "- The function returns `None`.\n",
        "- This function is intended to provide a comprehensive overview of a product's information stored across different dictionaries, facilitating easy access to sales figures, detailed product information, and descriptive texts based on the product's SKU.\n"
      ],
      "metadata": {
        "id": "DXOdZVpxT9IO"
      }
    },
    {
      "cell_type": "markdown",
      "source": [
        "### Recommendations\n",
        "- In cases where the SKU doesn't exist in the dataset, print a message and exit the function.\n",
        "- Provide the data description and requirements to ChatGPT along with the libraries that you are using and ask it to generate code for the function.\n",
        "- If you get stuck somewhere, you can ask ChatGPT to explain the code to you and you can make edits as required."
      ],
      "metadata": {
        "id": "2cJ6Ez67T9IO"
      }
    },
    {
      "cell_type": "code",
      "execution_count": 29,
      "metadata": {
        "id": "ZghUP8YR5gsq"
      },
      "outputs": [],
      "source": [
        "# Define the read function\n",
        "def read(product_details, sales_data, product_descriptions):\n",
        "    \"\"\"\n",
        "    Main function to read and display sales data, product details, and product descriptions.\n",
        "    Checks if the SKU exists in any of the dictionaries before proceeding. If the SKU does not exist, prints a message and exits the function early.\n",
        "\n",
        "    Parameters:\n",
        "        sales_data (dict): The dictionary containing sales data.\n",
        "        product_details (dict): The dictionary containing product details.\n",
        "        product_descriptions (dict): The dictionary containing product descriptions.\n",
        "\n",
        "    Returns:\n",
        "        None\n",
        "    \"\"\"\n",
        "    # SKU for Acer Aspire 3\n",
        "    sku = \"TYS56KFJW93NJ\"\n",
        "\n",
        "    if sku not in product_details or sku not in sales_data or sku not in product_descriptions:\n",
        "        print(\"Product SKU not found.\")\n",
        "        return\n",
        "\n",
        "    # Display sales data, product details, and product descriptions\n",
        "    display_sales_data(sales_data, sku)\n",
        "    display_product_details(product_details, sku)\n",
        "    display_product_descriptions(product_descriptions, sku)"
      ]
    },
    {
      "cell_type": "markdown",
      "source": [
        "Check your code here."
      ],
      "metadata": {
        "id": "A7U1vI-sC0jJ"
      }
    },
    {
      "cell_type": "code",
      "source": [
        "# Function to read and display sales data, product details, and product description\n",
        "read(product_details, sales_data, product_descriptions)\n"
      ],
      "metadata": {
        "id": "XT7-DymLFzeD",
        "colab": {
          "base_uri": "https://localhost:8080/"
        },
        "outputId": "b1ac8a39-c98a-4c10-b126-4d110bf96548"
      },
      "execution_count": 30,
      "outputs": [
        {
          "output_type": "stream",
          "name": "stdout",
          "text": [
            "Product SKU not found.\n"
          ]
        }
      ]
    },
    {
      "cell_type": "markdown",
      "source": [
        "### Checklist\n",
        "- Function `read()` defined\n",
        "- Checked whether the SKU exists in the dictionaries\n",
        "- Edge cases where the SKU doesn't exist were handled properly\n",
        "- User prompted to enter a product SKU\n",
        "- Display functions called with the entered product SKU"
      ],
      "metadata": {
        "id": "w2Q-gJflUIyL"
      }
    },
    {
      "cell_type": "markdown",
      "metadata": {
        "id": "Y6uVPHPlCfpL"
      },
      "source": [
        "# Stage 4 - Update\n",
        "In this stage, you will focus on modifying existing data in our system. This includes updating sales data, product details, and product descriptions for existing products. Let's outline the tasks for this stage:\n",
        "\n",
        "- Task 12 - Update sales data\n",
        "- Task 13 - Update product details\n",
        "- Task 14 - Update product description\n",
        "- Task 15 - Update function"
      ]
    },
    {
      "cell_type": "markdown",
      "metadata": {
        "id": "uO1VEdzmyW7L"
      },
      "source": [
        "## Task 12 - Update sales data"
      ]
    },
    {
      "cell_type": "markdown",
      "source": [
        "### Description\n",
        "This task involves updating the sales data of an existing product."
      ],
      "metadata": {
        "id": "xn5fhQKpT9rd"
      }
    },
    {
      "cell_type": "markdown",
      "source": [
        "### Requirements\n",
        "- Define a function named `update_sales_data()` that updates the sales data of an existing product with the provided quantities.\n",
        "- The function should accept three parameters:\n",
        "  - `sales_data`: A dictionary containing sales data. Each entry maps an SKU to a list of sales quantities for the last 14 days.\n",
        "  - `sku`: A string representing the validated SKU of the product to be updated.\n",
        "  - `quantities`: A list of integers representing the validated sales quantities for all 14 days to be updated for the product.\n",
        "- The function assumes that both the `sku` and `quantities` have already been validated before being passed to this function.\n",
        "- The main operation of the function is to update the sales data for the given SKU with the new quantities provided. It directly assigns the new quantities to the corresponding SKU key in the `sales_data` dictionary.\n",
        "- The function returns the updated `sales_data` dictionary after successfully updating the sales quantities for the specified SKU.\n",
        "- This function is essential for maintaining accurate and up-to-date sales data for products within a system by allowing updates to sales figures based on new information or corrections to previously recorded data.\n"
      ],
      "metadata": {
        "id": "TGHBktHWT9re"
      }
    },
    {
      "cell_type": "markdown",
      "source": [
        "### Recommendations\n",
        "- Provide the data description and requirements to ChatGPT along with the libraries that you are using and ask it to generate code for the function.\n",
        "- If you get stuck somewhere, you can ask ChatGPT to explain the code to you and you can make edits as required."
      ],
      "metadata": {
        "id": "m2-8vCwQT9re"
      }
    },
    {
      "cell_type": "code",
      "execution_count": 31,
      "metadata": {
        "id": "RZ20VyrKyWgd"
      },
      "outputs": [],
      "source": [
        "def update_sales_data(sales_data, sku, quantities):\n",
        "    \"\"\"\n",
        "    Update the sales data of an existing product with the provided quantities.\n",
        "\n",
        "    Parameters:\n",
        "        sales_data (dict): A dictionary containing sales data.\n",
        "        sku (str): A string representing the validated SKU of the product to be updated.\n",
        "        quantities (list of int): A list of integers representing the validated sales quantities for all 14 days to be updated for the product.\n",
        "\n",
        "    Returns:\n",
        "        dict: The updated sales_data dictionary after successfully updating the sales quantities for the specified SKU.\n",
        "    \"\"\"\n",
        "\n",
        "    #### YOUR CODE HERE ####\n",
        "    sales_data[sku] = quantities\n",
        "    return sales_data\n"
      ]
    },
    {
      "cell_type": "markdown",
      "source": [
        "Check your code here."
      ],
      "metadata": {
        "id": "Zb48M1ckC1hw"
      }
    },
    {
      "cell_type": "code",
      "source": [
        "def test_update_sales_data():\n",
        "    # Sample sales data\n",
        "    sales_data = {\n",
        "        \"SKU1\": [10, 20, 30, 40, 50, 60, 70, 80, 90, 100, 110, 120, 130, 140],\n",
        "        \"SKU2\": [5, 15, 25, 35, 45, 55, 65, 75, 85, 95, 105, 115, 125, 135]\n",
        "    }\n",
        "\n",
        "    # Update sales data for SKU1\n",
        "    updated_sales_data = update_sales_data(sales_data, \"SKU1\", [1, 2, 3, 4, 5, 6, 7, 8, 9, 10, 11, 12, 13, 14])\n",
        "\n",
        "    # Check if sales data for SKU1 is updated\n",
        "    assert updated_sales_data[\"SKU1\"] == [1, 2, 3, 4, 5, 6, 7, 8, 9, 10, 11, 12, 13, 14]\n",
        "\n",
        "    print(\"update_sales_data function passed the test.\")\n",
        "\n",
        "# Run the test\n",
        "test_update_sales_data()"
      ],
      "metadata": {
        "id": "DCcd1G1nC15h",
        "colab": {
          "base_uri": "https://localhost:8080/"
        },
        "outputId": "2f38dd26-4323-4a91-b915-1922bb3ac4c8"
      },
      "execution_count": 32,
      "outputs": [
        {
          "output_type": "stream",
          "name": "stdout",
          "text": [
            "update_sales_data function passed the test.\n"
          ]
        }
      ]
    },
    {
      "cell_type": "markdown",
      "source": [
        "### Checklist\n",
        "- Updated the `sales_data` dictionary with the new quantities\n",
        "- Returned the new `sales_data` dictionary"
      ],
      "metadata": {
        "id": "3NUHjMExUJvf"
      }
    },
    {
      "cell_type": "markdown",
      "metadata": {
        "id": "SbmrftedyEM8"
      },
      "source": [
        "## Task 13 - Update product details"
      ]
    },
    {
      "cell_type": "markdown",
      "source": [
        "### Description\n",
        "This task involves updating the product details of an existing product.\n"
      ],
      "metadata": {
        "id": "dlSO4g_xT-GM"
      }
    },
    {
      "cell_type": "markdown",
      "source": [
        "### Requirements\n",
        "- Define a function named `update_product_details()` that updates the product details of an existing product with the provided details.\n",
        "- The function should accept three parameters:\n",
        "  - `product_details`: A dictionary containing product details. Each entry maps an SKU to its corresponding set of product details, such as name, brand, model, specifications, price, and availability.\n",
        "  - `sku`: A string representing the SKU of the product to be updated.\n",
        "  - `updated_details`: A dictionary containing the validated updated details for the product. This dictionary should include information similar to what is stored in the `product_details` dictionary, such as product name, brand, model, specifications, price, and availability.\n",
        "- The function assumes that the existence of the `sku` in the `product_details` dictionary and the validity of the `updated_details` have already been validated prior to calling this function.\n",
        "- The main operation of the function is to update the product details for the given SKU with the provided updated details. It directly assigns the `updated_details` dictionary to the corresponding SKU key in the `product_details` dictionary.\n",
        "- The function returns the updated `product_details` dictionary after successfully updating the details for the specified SKU.\n",
        "- This function is crucial for maintaining accurate and up-to-date product information within a system by allowing for modifications to product details based on new information, corrections to previously recorded information, or changes in product specifications.\n"
      ],
      "metadata": {
        "id": "jiZukcFgT-GM"
      }
    },
    {
      "cell_type": "markdown",
      "source": [
        "### Recommendations\n",
        "- Provide the data description and requirements to ChatGPT along with the libraries that you are using and ask it to generate code for the function.\n",
        "- If you get stuck somewhere, you can ask ChatGPT to explain the code to you and you can make edits as required."
      ],
      "metadata": {
        "id": "zJJASHeCT-GM"
      }
    },
    {
      "cell_type": "code",
      "execution_count": 33,
      "metadata": {
        "id": "ahwXZ7NyyDGD"
      },
      "outputs": [],
      "source": [
        "def update_product_details(product_details, sku, updated_details):\n",
        "    \"\"\"\n",
        "    Updates the product details of an existing product with the provided details.\n",
        "\n",
        "    Parameters:\n",
        "        product_details (dict): A dictionary containing product details.\n",
        "        sku (str): A string representing the SKU of the product to be updated.\n",
        "        updated_details (dict): A dictionary containing the validated updated details for the product.\n",
        "\n",
        "    Returns:\n",
        "        dict: The updated product_details dictionary.\n",
        "    \"\"\"\n",
        "\n",
        "    #### YOUR CODE HERE ####\n",
        "    product_details[sku] = updated_details\n",
        "    return product_details\n"
      ]
    },
    {
      "cell_type": "markdown",
      "source": [
        "Check your code here."
      ],
      "metadata": {
        "id": "JYNKrbLTC21i"
      }
    },
    {
      "cell_type": "code",
      "source": [
        "# Define the initial product_details dictionary\n",
        "product_details = {\n",
        "    \"SKU123\": {\n",
        "        \"name\": \"Product A\",\n",
        "        \"brand\": \"Brand X\",\n",
        "        \"model\": \"Model 1\",\n",
        "        \"specifications\": \"Specs A\",\n",
        "        \"price\": \"$100\",\n",
        "        \"availability\": \"In stock\"\n",
        "    },\n",
        "    \"SKU456\": {\n",
        "        \"name\": \"Product B\",\n",
        "        \"brand\": \"Brand Y\",\n",
        "        \"model\": \"Model 2\",\n",
        "        \"specifications\": \"Specs B\",\n",
        "        \"price\": \"$200\",\n",
        "        \"availability\": \"Out of stock\"\n",
        "    }\n",
        "}\n",
        "\n",
        "# Print the initial product_details dictionary\n",
        "print(\"Initial Product Details:\")\n",
        "print(product_details)\n",
        "\n",
        "# Define the SKU of the product to be updated\n",
        "sku_to_update = \"SKU456\"\n",
        "\n",
        "# Define the updated product details\n",
        "updated_details = {\n",
        "    \"name\": \"Updated Product B\",\n",
        "    \"brand\": \"Brand Z\",\n",
        "    \"model\": \"Model 3\",\n",
        "    \"specifications\": \"Specs C\",\n",
        "    \"price\": \"$250\",\n",
        "    \"availability\": \"In stock\"\n",
        "}\n",
        "\n",
        "# Update the product details\n",
        "updated_product_details = update_product_details(product_details, sku_to_update, updated_details)\n",
        "\n",
        "# Print the updated product_details dictionary\n",
        "print(\"\\nUpdated Product Details:\")\n",
        "print(updated_product_details)\n"
      ],
      "metadata": {
        "id": "o5OiS_KSC3Ln",
        "colab": {
          "base_uri": "https://localhost:8080/"
        },
        "outputId": "2d161e08-cc5c-4ec3-dd69-e30e24741c86"
      },
      "execution_count": 34,
      "outputs": [
        {
          "output_type": "stream",
          "name": "stdout",
          "text": [
            "Initial Product Details:\n",
            "{'SKU123': {'name': 'Product A', 'brand': 'Brand X', 'model': 'Model 1', 'specifications': 'Specs A', 'price': '$100', 'availability': 'In stock'}, 'SKU456': {'name': 'Product B', 'brand': 'Brand Y', 'model': 'Model 2', 'specifications': 'Specs B', 'price': '$200', 'availability': 'Out of stock'}}\n",
            "\n",
            "Updated Product Details:\n",
            "{'SKU123': {'name': 'Product A', 'brand': 'Brand X', 'model': 'Model 1', 'specifications': 'Specs A', 'price': '$100', 'availability': 'In stock'}, 'SKU456': {'name': 'Updated Product B', 'brand': 'Brand Z', 'model': 'Model 3', 'specifications': 'Specs C', 'price': '$250', 'availability': 'In stock'}}\n"
          ]
        }
      ]
    },
    {
      "cell_type": "markdown",
      "source": [
        "### Checklist\n",
        "- Updated the `product_details` dictionary with the new details\n",
        "- Returned the new `product_details` dictionary"
      ],
      "metadata": {
        "id": "FuWcrSm7UKVt"
      }
    },
    {
      "cell_type": "markdown",
      "metadata": {
        "id": "e_6XdxaIyCzd"
      },
      "source": [
        "## Task 14 - Update product description"
      ]
    },
    {
      "cell_type": "markdown",
      "source": [
        "### Description\n",
        "This task involves updating the product description of an existing product.\n"
      ],
      "metadata": {
        "id": "4i1H8jNxT-iQ"
      }
    },
    {
      "cell_type": "markdown",
      "source": [
        "### Requirements\n",
        "- Define a function named `update_product_description()` that updates the product description of an existing product with the provided description.\n",
        "- The function should accept three parameters:\n",
        "  - `product_descriptions`: A dictionary containing product descriptions. Each entry maps an SKU to its corresponding textual description.\n",
        "  - `sku`: A string representing the SKU of the product to be updated.\n",
        "  - `updated_description`: A string containing the validated updated description for the product.\n",
        "- The function assumes that the existence of the `sku` in the `product_descriptions` dictionary and the validity of the `updated_description` have already been validated prior to calling this function.\n",
        "- The main operation of the function is to update the product description for the given SKU with the provided updated description. It directly assigns the `updated_description` to the corresponding SKU key in the `product_descriptions` dictionary.\n",
        "- The function returns the updated `product_descriptions` dictionary after successfully updating the description for the specified SKU.\n",
        "- This function is essential for maintaining accurate and up-to-date product narratives within a system by allowing for modifications to product descriptions based on new insights, corrections to previously recorded descriptions, or enhancements to how a product is presented.\n"
      ],
      "metadata": {
        "id": "q2khS0DrT-iQ"
      }
    },
    {
      "cell_type": "markdown",
      "source": [
        "### Recommendations\n",
        "- Provide the data description and requirements to ChatGPT along with the libraries that you are using and ask it to generate code for the function.\n",
        "- If you get stuck somewhere, you can ask ChatGPT to explain the code to you and you can make edits as required."
      ],
      "metadata": {
        "id": "rNJg79wST-iQ"
      }
    },
    {
      "cell_type": "code",
      "execution_count": 35,
      "metadata": {
        "id": "LtiZX67AyCbD"
      },
      "outputs": [],
      "source": [
        "def update_product_description(product_descriptions, sku, updated_description):\n",
        "    \"\"\"\n",
        "    Updates the product description of an existing product with the provided description.\n",
        "\n",
        "    Parameters:\n",
        "        product_descriptions (dict): A dictionary containing product descriptions.\n",
        "        sku (str): The SKU of the product to be updated.\n",
        "        updated_description (str): The validated updated description for the product.\n",
        "\n",
        "    Returns:\n",
        "        dict: The updated product_descriptions dictionary after successfully updating the description for the specified SKU.\n",
        "    \"\"\"\n",
        "\n",
        "    #### YOUR CODE HERE ####\n",
        "\n",
        "    product_descriptions[sku] = updated_description\n",
        "    return product_descriptions\n"
      ]
    },
    {
      "cell_type": "markdown",
      "source": [
        "Check your code here."
      ],
      "metadata": {
        "id": "1tJwB1hRC4h4"
      }
    },
    {
      "cell_type": "code",
      "source": [
        "# Define an example product description dictionary\n",
        "product_descriptions = {\n",
        "    \"SKU123\": \"This is the old product description for SKU123.\"\n",
        "}\n",
        "\n",
        "# Call the function to update the product description for SKU123\n",
        "updated_product_descriptions = update_product_description(product_descriptions, \"SKU123\", \"This is the updated product description for SKU123.\")\n",
        "\n",
        "# Print the updated product descriptions\n",
        "print(\"Updated Product Descriptions:\")\n",
        "print(updated_product_descriptions)\n",
        "\n",
        "product_descriptions = {\n",
        "    \"SKU123\": \"This is the old product description for SKU123.\"\n",
        "}\n",
        "\n",
        "# Call the function to update the product description for SKU123\n",
        "updated_product_descriptions = update_product_description(product_descriptions, \"SKU123\", \"This is the updated product description for SKU123.\")\n",
        "\n",
        "# Print the updated product descriptions\n",
        "print(\"Updated Product Descriptions:\")\n",
        "print(updated_product_descriptions)"
      ],
      "metadata": {
        "id": "R1_lWfRPC5Bb",
        "colab": {
          "base_uri": "https://localhost:8080/"
        },
        "outputId": "38f0d6f9-f9b4-4e86-9cbb-41f970f2aca4"
      },
      "execution_count": 37,
      "outputs": [
        {
          "output_type": "stream",
          "name": "stdout",
          "text": [
            "Updated Product Descriptions:\n",
            "{'SKU123': 'This is the updated product description for SKU123.'}\n",
            "Updated Product Descriptions:\n",
            "{'SKU123': 'This is the updated product description for SKU123.'}\n"
          ]
        }
      ]
    },
    {
      "cell_type": "markdown",
      "source": [
        "### Checklist\n",
        "- Updated the `product_description` dictionary with the new description\n",
        "- Returned the new `product_descriptions` dictionary"
      ],
      "metadata": {
        "id": "NhjnhIRyULIS"
      }
    },
    {
      "cell_type": "markdown",
      "metadata": {
        "id": "OcY0zxZex4g8"
      },
      "source": [
        "## Task 15 - Update function"
      ]
    },
    {
      "cell_type": "markdown",
      "source": [
        "### Description\n",
        "This task involves creating a function named `update()` which calls appropriate update functions based on user input.\n"
      ],
      "metadata": {
        "id": "WEldxTtrT_El"
      }
    },
    {
      "cell_type": "markdown",
      "source": [
        "### Requirements\n",
        "- Define a function named `update()` that updates product information, including sales data, product details, and product descriptions, for a specified SKU.\n",
        "- The function should provide a menu-driven interface for users to select the type of product data they wish to update and input new values accordingly.\n",
        "- Parameters:\n",
        "  - `product_details`: A dictionary containing existing product details, with SKU as keys and details as values.\n",
        "  - `sales_data`: A dictionary containing sales data, with SKU as keys and lists of sales quantities for the last 14 days as values.\n",
        "  - `product_descriptions`: A dictionary containing product descriptions, with SKU as keys and descriptions as values.\n",
        "- The function begins by prompting the user to enter the SKU of the product they want to update.\n",
        "  - If the entered SKU does not exist in `product_details`, print a message indicating that the SKU was not found and exit the function early.\n",
        "- The function then displays a menu with options to update sales data, product details, product description, or exit the process.\n",
        "  - For updating sales data, the user is prompted to enter new quantities for all 14 days. The input is validated to ensure it consists of exactly 14 integers.\n",
        "  - For updating product details, the user is prompted to enter updated values for product name, brand, model, specifications, price, and availability.\n",
        "  - For updating the product description, the user is prompted to enter a new product description.\n",
        "- Each update option validates the corresponding input data before applying the update to ensure data integrity.\n",
        "- The function returns a tuple containing the updated `product_details`, `sales_data`, and `product_descriptions` dictionaries in that order.\n",
        "- Usage:\n",
        "  - The function is designed to be called when an existing product's information needs to be updated. It requires the caller to pass the current states of the `product_details`, `sales_data`, and `product_descriptions` dictionaries and returns their updated states after the modifications.\n"
      ],
      "metadata": {
        "id": "kndQHuv5T_El"
      }
    },
    {
      "cell_type": "markdown",
      "source": [
        "### Recommendations\n",
        "- Provide the data description and requirements to ChatGPT along with the libraries that you are using and ask it to generate code for the function.\n",
        "- If you get stuck somewhere, you can ask ChatGPT to explain the code to you and you can make edits as required."
      ],
      "metadata": {
        "id": "RZmjVkNET_El"
      }
    },
    {
      "cell_type": "code",
      "execution_count": 42,
      "metadata": {
        "id": "4u7acshdxeCW"
      },
      "outputs": [],
      "source": [
        "def update(product_details, sales_data, product_descriptions):\n",
        "    \"\"\"\n",
        "    Update product information, including sales data, product details, and product descriptions, for a specified SKU.\n",
        "\n",
        "    Parameters:\n",
        "        product_details (dict): A dictionary containing existing product details, with SKU as keys and details as values.\n",
        "        sales_data (dict): A dictionary containing sales data, with SKU as keys and lists of sales quantities for the last 14 days as values.\n",
        "        product_descriptions (dict): A dictionary containing product descriptions, with SKU as keys and descriptions as values.\n",
        "\n",
        "    Returns:\n",
        "        tuple: Updated product_details, sales_data, and product_descriptions dictionaries.\n",
        "    \"\"\"\n",
        "\n",
        "    # Prompt user to enter the SKU of the product they want to update\n",
        "    sku = input(\"Enter the SKU of the product you want to update: \")\n",
        "\n",
        "    # Check if SKU exists in product_details\n",
        "    if sku not in product_details:\n",
        "        print(\"SKU not found in product details.\")\n",
        "        return product_details, sales_data, product_descriptions\n",
        "\n",
        "    # Menu-driven interface for updating product information\n",
        "    while True:\n",
        "        print(\"\\nOptions:\")\n",
        "        print(\"1. Update sales data\")\n",
        "        print(\"2. Update product details\")\n",
        "        print(\"3. Update product description\")\n",
        "        print(\"4. Exit\")\n",
        "\n",
        "        choice = input(\"Enter your choice: \")\n",
        "\n",
        "        if choice == \"1\":\n",
        "            # Update sales data\n",
        "            new_quantities = input(\"Enter new sales quantities for all 14 days (comma-separated integers): \")\n",
        "            new_quantities_list = new_quantities.split(',')\n",
        "            if len(new_quantities_list) != 14 or not all(q.isdigit() for q in new_quantities_list):\n",
        "                print(\"Error: Invalid input. Please enter exactly 14 integers.\")\n",
        "                continue\n",
        "            sales_data[sku] = [int(q) for q in new_quantities_list]\n",
        "            print(\"Sales data updated successfully.\")\n",
        "\n",
        "        elif choice == \"2\":\n",
        "            # Update product details\n",
        "            updated_details = {}\n",
        "            updated_details['product_name'] = input(\"Enter updated product name: \")\n",
        "            updated_details['brand'] = input(\"Enter updated brand: \")\n",
        "            updated_details['model'] = input(\"Enter updated model: \")\n",
        "            updated_details['specifications'] = input(\"Enter updated specifications: \")\n",
        "            updated_details['price'] = input(\"Enter updated price: \")\n",
        "            updated_details['availability'] = input(\"Enter updated availability: \")\n",
        "            product_details[sku] = updated_details\n",
        "            print(\"Product details updated successfully.\")\n",
        "\n",
        "        elif choice == \"3\":\n",
        "            # Update product description\n",
        "            updated_description = input(\"Enter updated product description: \")\n",
        "            product_descriptions[sku] = updated_description\n",
        "            print(\"Product description updated successfully.\")\n",
        "\n",
        "        elif choice == \"4\":\n",
        "            # Exit the process\n",
        "            print(\"Exiting...\")\n",
        "            break\n",
        "\n",
        "        else:\n",
        "            print(\"Invalid choice. Please enter a valid option.\")\n",
        "\n",
        "    return product_details, sales_data, product_descriptions"
      ]
    },
    {
      "cell_type": "markdown",
      "source": [
        "Check your code here."
      ],
      "metadata": {
        "id": "kwXP6bQ8C6aU"
      }
    },
    {
      "cell_type": "code",
      "source": [
        " product_details = {\n",
        "    \"SKU1\": {\"product_name\": \"Product 1\", \"brand\": \"Brand A\", \"model\": \"Model 1\", \"specifications\": \"Specs 1\", \"price\": \"$100\", \"availability\": \"In stock\"},\n",
        "    \"SKU2\": {\"product_name\": \"Product 2\", \"brand\": \"Brand B\", \"model\": \"Model 2\", \"specifications\": \"Specs 2\", \"price\": \"$150\", \"availability\": \"Out of stock\"}\n",
        "}\n",
        "\n",
        "sales_data = {\n",
        "    \"SKU1\": [10, 20, 30, 40, 50, 60, 70, 80, 90, 100, 110, 120, 130, 140],\n",
        "    \"SKU2\": [5, 10, 15, 20, 25, 30, 35, 40, 45, 50, 55, 60, 65, 70]\n",
        "}\n",
        "\n",
        "product_descriptions = {\n",
        "    \"SKU1\": \"Description for Product 1\",\n",
        "    \"SKU2\": \"Description for Product 2\"\n",
        "}\n",
        "\n",
        "updated_product_details, updated_sales_data, updated_product_descriptions = update(product_details, sales_data, product_descriptions)\n",
        "print(\"\\nUpdated Product Details:\")\n",
        "print(updated_product_details)\n",
        "print(\"\\nUpdated Sales Data:\")\n",
        "print(updated_sales_data)\n",
        "print(\"\\nUpdated Product Descriptions:\")\n",
        "print(updated_product_descriptions)"
      ],
      "metadata": {
        "id": "tzP8XYBjJgjf",
        "colab": {
          "base_uri": "https://localhost:8080/"
        },
        "outputId": "fe8d461f-e698-405f-be4c-6aad7b101054"
      },
      "execution_count": 46,
      "outputs": [
        {
          "output_type": "stream",
          "name": "stdout",
          "text": [
            "Enter the SKU of the product you want to update: ABC123XYZ789\n",
            "SKU not found in product details.\n",
            "\n",
            "Updated Product Details:\n",
            "{'SKU1': {'product_name': 'Product 1', 'brand': 'Brand A', 'model': 'Model 1', 'specifications': 'Specs 1', 'price': '$100', 'availability': 'In stock'}, 'SKU2': {'product_name': 'Product 2', 'brand': 'Brand B', 'model': 'Model 2', 'specifications': 'Specs 2', 'price': '$150', 'availability': 'Out of stock'}}\n",
            "\n",
            "Updated Sales Data:\n",
            "{'SKU1': [10, 20, 30, 40, 50, 60, 70, 80, 90, 100, 110, 120, 130, 140], 'SKU2': [5, 10, 15, 20, 25, 30, 35, 40, 45, 50, 55, 60, 65, 70]}\n",
            "\n",
            "Updated Product Descriptions:\n",
            "{'SKU1': 'Description for Product 1', 'SKU2': 'Description for Product 2'}\n"
          ]
        }
      ]
    },
    {
      "cell_type": "markdown",
      "source": [
        "### Checklist\n",
        "- Prompted the user for SKU of the product to be updated\n",
        "- Validated whether the SKU exists in the dictionaries or not\n",
        "- Provided options to the user for what aspect of data to update\n",
        "- Called the appropriate update function based on user choice by passing the appropriate arguments\n",
        "- Allowed user to exit or continue updating data"
      ],
      "metadata": {
        "id": "zjQ--UxKUMRB"
      }
    },
    {
      "cell_type": "markdown",
      "metadata": {
        "id": "YThJDsd3ChRz"
      },
      "source": [
        "# Stage 5 - Delete\n",
        "In this stage, you will implement the functionality to delete entries from the data structures. This involves removing sales data, product details, and product descriptions associated with a given product SKU.\n",
        "\n",
        "In this task though, you will also need to delete the JSON and TXT files corresponding to the SKU entered by the user.\n",
        "\n",
        "- Task 16 - Delete function"
      ]
    },
    {
      "cell_type": "markdown",
      "metadata": {
        "id": "N6wvvrXUKlXR"
      },
      "source": [
        "## Task 16 - Delete function"
      ]
    },
    {
      "cell_type": "markdown",
      "source": [
        "### Description\n",
        "In this task you will create a function called `delete()` which is responsible for deleting entries related to a given product SKU from the `sales_data`, `product_details`, and `product_descriptions` dictionaries."
      ],
      "metadata": {
        "id": "HGGeNEjqT_-Z"
      }
    },
    {
      "cell_type": "markdown",
      "source": [
        "### Requirements\n",
        "- Define a function named `delete()` that deletes entries for a given SKU from sales data, product details, product descriptions dictionaries, and also deletes corresponding JSON and text files related to the product.\n",
        "- The function should accept four parameters:\n",
        "  - `sales_data`: A dictionary containing sales data, with SKU as keys.\n",
        "  - `product_details`: A dictionary containing product details, with SKU as keys.\n",
        "  - `product_descriptions`: A dictionary containing product descriptions, with SKU as keys.\n",
        "  - `main_folder`: A string representing the location of the main folder containing subfolders for product details and product descriptions, where corresponding JSON and text files are stored.\n",
        "- The function begins by prompting the user to enter the SKU of the product they wish to delete.\n",
        "  - If the SKU does not exist in the `sales_data` dictionary, print a message indicating that the SKU was not found and exit the function early.\n",
        "- The function then proceeds to delete the entries for the specified SKU from the `sales_data`, `product_details`, and `product_descriptions` dictionaries.\n",
        "- After successfully removing the entries from the dictionaries, the function attempts to delete the corresponding JSON file (containing product details) and text file (containing product descriptions) from the specified `main_folder`. It constructs the paths to these files based on the SKU and the folder structure.\n",
        "  - If the specified files exist, they are deleted, and a success message is printed.\n",
        "  - If a file does not exist, a message indicating that the file was not found is printed.\n",
        "- The function returns a tuple containing the updated `sales_data`, `product_details`, and `product_descriptions` dictionaries.\n",
        "- Usage:\n",
        "  - The function is designed for cases where a product is to be completely removed from the system, including its sales records, details, descriptions, and associated files. It requires the current states of the `sales_data`, `product_details`, and `product_descriptions` dictionaries and the path to the *main_folder* as inputs, and returns their updated states after the deletion.\n"
      ],
      "metadata": {
        "id": "AmVM_kuFT_-g"
      }
    },
    {
      "cell_type": "markdown",
      "source": [
        "### Recommendations\n",
        "- Ensure that the function checks if the given SKU exists in each of the dictionaries before attempting deletion.\n",
        "- Provide the data description and requirements to ChatGPT along with the libraries that you are using and ask it to generate code for the function.\n",
        "- If you get stuck somewhere, you can ask ChatGPT to explain the code to you and you can make edits as required."
      ],
      "metadata": {
        "id": "0SXuiZyiT_-g"
      }
    },
    {
      "cell_type": "code",
      "execution_count": 44,
      "metadata": {
        "id": "GfOZQtEzKk9S"
      },
      "outputs": [],
      "source": [
        "def delete(sales_data, product_details, product_descriptions, main_folder):\n",
        "    \"\"\"\n",
        "    Deletes entries for a given SKU from sales data, product details, and product descriptions dictionaries,\n",
        "    and also deletes corresponding JSON and text files related to the product.\n",
        "\n",
        "    Parameters:\n",
        "        sales_data (dict): A dictionary containing sales data, with SKU as keys.\n",
        "        product_details (dict): A dictionary containing product details, with SKU as keys.\n",
        "        product_descriptions (dict): A dictionary containing product descriptions, with SKU as keys.\n",
        "        main_folder (str): A string representing the location of the main folder containing subfolders for product details\n",
        "                           and product descriptions, where corresponding JSON and text files are stored.\n",
        "\n",
        "    Returns:\n",
        "        tuple: Updated sales_data, product_details, and product_descriptions dictionaries.\n",
        "    \"\"\"\n",
        "    # Prompt user to enter the SKU of the product to delete\n",
        "    sku = input(\"Enter the SKU of the product you wish to delete: \")\n",
        "\n",
        "    # Check if the SKU exists in the sales_data dictionary\n",
        "    if sku not in sales_data:\n",
        "        print(\"SKU not found.\")\n",
        "        return sales_data, product_details, product_descriptions\n",
        "\n",
        "    # Delete entries from dictionaries\n",
        "    del sales_data[sku]\n",
        "    del product_details[sku]\n",
        "    del product_descriptions[sku]\n",
        "\n",
        "    # Delete corresponding JSON file\n",
        "    json_file_path = os.path.join(main_folder, \"product_details\", f\"{sku}.json\")\n",
        "    if os.path.exists(json_file_path):\n",
        "        os.remove(json_file_path)\n",
        "        print(f\"JSON file for SKU {sku} deleted successfully.\")\n",
        "    else:\n",
        "        print(f\"JSON file for SKU {sku} not found.\")\n",
        "\n",
        "    # Delete corresponding text file\n",
        "    text_file_path = os.path.join(main_folder, \"product_descriptions\", f\"{sku}.txt\")\n",
        "    if os.path.exists(text_file_path):\n",
        "        os.remove(text_file_path)\n",
        "        print(f\"Text file for SKU {sku} deleted successfully.\")\n",
        "    else:\n",
        "        print(f\"Text file for SKU {sku} not found.\")\n",
        "\n",
        "    return sales_data, product_details, product_descriptions\n",
        "\n"
      ]
    },
    {
      "cell_type": "markdown",
      "source": [
        "Check your code here."
      ],
      "metadata": {
        "id": "tv5_IhiQC9rb"
      }
    },
    {
      "cell_type": "code",
      "source": [
        "sales_data = {...}  # Your sales data dictionary\n",
        "product_details = {...}  # Your product details dictionary\n",
        "product_descriptions = {...}  # Your product descriptions dictionary\n",
        "main_folder = \"path/to/main/folder\"\n",
        "\n",
        "sales_data, product_details, product_descriptions = delete(sales_data, product_details, product_descriptions, main_folder)\n"
      ],
      "metadata": {
        "id": "5RxHFGhEKKoW",
        "colab": {
          "base_uri": "https://localhost:8080/"
        },
        "outputId": "f09117cf-71ec-4d5e-be78-9dd432066460"
      },
      "execution_count": 45,
      "outputs": [
        {
          "output_type": "stream",
          "name": "stdout",
          "text": [
            "Enter the SKU of the product you wish to delete: ABC123XYZ789\n",
            "SKU not found.\n"
          ]
        }
      ]
    },
    {
      "cell_type": "markdown",
      "source": [
        "### Checklist\n",
        "- Defined the `delete()` function with the specified parameters\n",
        "- Checked if the given SKU exists in each dictionary before attempting deletion\n",
        "- Deleted the corresponding entry for the given SKU from each dictionary if it exists\n",
        "- Deleted the corresponding JSON and TXT files\n",
        "- Provided appropriate feedback messages indicating the outcome of the deletion process"
      ],
      "metadata": {
        "id": "lTP2A3dpUNRI"
      }
    },
    {
      "cell_type": "markdown",
      "metadata": {
        "id": "vU3YMmGlNTQx"
      },
      "source": [
        "# Stage 6 - Bringing it all together\n",
        "In this stage, you will combine all the functions you have created so far into one main function called `user_menu()`. This function will work as an interface for the user where they can choose the operation they want to perform. If they choose to exit, the function will write the data into the disk. Therefore, besides the `user_menu()` function, you will also define the `dump_data()` function which writes the data into the disk.\n",
        "\n",
        "You will do this by performing the following tasks:\n",
        "- Task 17 - Save data to disk\n",
        "- Task 18 - Create a user menu"
      ]
    },
    {
      "cell_type": "markdown",
      "source": [
        "## Task 17 - Save data to disk"
      ],
      "metadata": {
        "id": "ccFlC9OGdejQ"
      }
    },
    {
      "cell_type": "markdown",
      "source": [
        "### Description\n",
        "\n",
        "In this task, learners are tasked with implementing a Python function named `dump_data()` that automates the process of persisting sales data, product details, and product descriptions into structured files within a specified directory. The function should efficiently organize and dump each type of data into its corresponding file format: CSV for sales data, JSON for product details, and plain text for product descriptions. This exercise challenges learners to apply file I/O operations, directory management, and data serialization techniques in Python, ensuring they gain practical experience with data persistence, manipulation, and organization on the filesystem."
      ],
      "metadata": {
        "id": "UqDs8HZ7dYZx"
      }
    },
    {
      "cell_type": "markdown",
      "source": [
        "### Requirements\n",
        "- Define a function named `dump_data()` that dumps product details, sales data, and product descriptions into files within a specified main folder.\n",
        "- The function should accept four parameters:\n",
        "  - `sales_data`: A dictionary containing sales data, with SKU as keys and a list of sales quantities for the last 14 days as values.\n",
        "  - `product_details`: A dictionary containing product details, with SKU as keys and details as values. Details include attributes like name, brand, model, specifications, price, and availability.\n",
        "  - `product_descriptions`: A dictionary containing product descriptions, with SKU as keys and the textual description of the product as values.\n",
        "  - `main_folder`: A string representing the location of the main folder, which should contain `product_details` and `product_descriptions` subfolders.\n",
        "- The function performs the following operations:\n",
        "  - Dumps the `sales_data` into a CSV file named `sales_data.csv` located in the *main_folder*. Each row in the CSV file represents the sales data for a product, with fields for the SKU and sales quantities for each of the 14 days.\n",
        "  - Dumps each entry in `product_details` into a separate JSON file within the `product_details` subfolder of the `main_folder`. Each file is named after the SKU of the product and contains the details of that product in JSON format.\n",
        "  - Dumps each product description from `product_descriptions` into a separate TXT file within the `product_descriptions` subfolder of the *main_folder*. Each file is named after the SKU of the product and contains the textual description of that product.\n",
        "- Prior to dumping product details and descriptions, the function checks if the respective subfolders exist. If not, it creates them.\n",
        "- Usage:\n",
        "  - The function is designed to persist the current state of sales data, product details, and product descriptions to the filesystem, allowing for data backup and recovery. It organizes the persisted data into a structured directory and file system based on the specified *main_folder* path.\n"
      ],
      "metadata": {
        "id": "ffUjhTwTdYRw"
      }
    },
    {
      "cell_type": "markdown",
      "source": [
        "### Recommendations\n",
        "- Ensure that you are writing the data down with the same folder structure as the original folder.\n",
        "- You may want to learn more about the `DictWriter()` object from the `csv` library to write the sales data.\n",
        "- Make sure that you open files with a 'w' parameter so that you are overwriting the files and not appending to them.\n",
        "- Provide the data description and requirements to ChatGPT along with the libraries that you are using and ask it to generate code for the function.\n",
        "- If you get stuck somewhere, you can ask ChatGPT to explain the code to you and you can make edits as required."
      ],
      "metadata": {
        "id": "bvtuWxwvdYOD"
      }
    },
    {
      "cell_type": "code",
      "source": [
        "def dump_data(sales_data, product_details, product_descriptions, main_folder):\n",
        "    # Create subfolders if they don't exist\n",
        "    product_details_folder = os.path.join(main_folder, 'product_details')\n",
        "    product_descriptions_folder = os.path.join(main_folder, 'product_descriptions')\n",
        "    os.makedirs(product_details_folder, exist_ok=True)\n",
        "    os.makedirs(product_descriptions_folder, exist_ok=True)\n",
        "\n",
        "    # Dump sales data into a CSV file\n",
        "    sales_file_path = os.path.join(main_folder, 'sales_data.csv')\n",
        "    with open(sales_file_path, 'w', newline='') as sales_file:\n",
        "        writer = csv.writer(sales_file)\n",
        "        writer.writerow(['SKU', *range(1, 15)])  # Write header row\n",
        "        for sku, sales in sales_data.items():\n",
        "            writer.writerow([sku, *sales])\n",
        "\n",
        "    # Dump product details into separate JSON files\n",
        "    for sku, details in product_details.items():\n",
        "        json_file_path = os.path.join(product_details_folder, f'{sku}.json')\n",
        "        with open(json_file_path, 'w') as json_file:\n",
        "            json.dump(details, json_file, indent=4)\n",
        "\n",
        "    # Dump product descriptions into separate TXT files\n",
        "    for sku, description in product_descriptions.items():\n",
        "        txt_file_path = os.path.join(product_descriptions_folder, f'{sku}.txt')\n",
        "        with open(txt_file_path, 'w') as txt_file:\n",
        "            txt_file.write(description)\n"
      ],
      "metadata": {
        "id": "PMuHRcMELNoq"
      },
      "execution_count": 47,
      "outputs": []
    },
    {
      "cell_type": "markdown",
      "source": [
        "Check your code here."
      ],
      "metadata": {
        "id": "Q0IRwQvIDAaB"
      }
    },
    {
      "cell_type": "code",
      "source": [
        "sales_data = {'SKU1': [10, 20, 30, 40, 50, 60, 70, 80, 90, 100, 110, 120, 130, 140]}\n",
        "product_details = {'SKU1': {'name': 'Product1', 'brand': 'Brand1', 'price': 100}}\n",
        "product_descriptions = {'SKU1': 'Description for Product1'}\n",
        "main_folder = '/content/mainfolder'\n",
        "dump_data(sales_data, product_details, product_descriptions, main_folder)\n"
      ],
      "metadata": {
        "id": "JvvgYdPUDBf6"
      },
      "execution_count": 48,
      "outputs": []
    },
    {
      "cell_type": "markdown",
      "source": [
        "### Checklist\n",
        "- Defined the `dump_data()` function with the specified parameters\n",
        "- Saved the sales data, product details and the product description into the respective files\n",
        "- Ensured that the folder structure remains the same for future use"
      ],
      "metadata": {
        "id": "N5PVdR8mATvh"
      }
    },
    {
      "cell_type": "markdown",
      "source": [
        "## Task 18 - Create a user menu"
      ],
      "metadata": {
        "id": "M157y1lXAloF"
      }
    },
    {
      "cell_type": "markdown",
      "source": [
        "### Description\n",
        "\n",
        "In this task, you will implement a Python function named `user_menu()` to act as the central interface for a product data management system. This function will integrate create, read, update, and delete (CRUD) operations, allowing users to manage product information interactively from the command line. Your implementation should handle data loading from a specified directory, user input processing to select the desired operation, and data persistence upon exit. This exercise aims to reinforce skills in Python related to function definition, user input handling, conditional logic, and file I/O operations, encapsulating them within a practical application for data management.\n"
      ],
      "metadata": {
        "id": "-hqjWCtJAu4P"
      }
    },
    {
      "cell_type": "markdown",
      "source": [
        "### Requirements\n",
        "- Define a function named `user_menu()` that serves as the main interface for managing product data, including create, read, update, and delete (CRUD) operations.\n",
        "- The function should accept one parameter:\n",
        "  - *main_folder*: A string representing the location of the main folder that contains or will contain the persisted data.\n",
        "- The function performs the following tasks:\n",
        "  - Initially, it loads existing product data from files located within *main_folder* by calling a `load_data()` function. This step assumes that `load_data()` returns three dictionaries: `product_details`, `sales_data`, and `product_descriptions`, representing the current state of the product data.\n",
        "  - Displays a menu with options to create new product data, read existing data, update data, delete data, or exit the program.\n",
        "  - Based on the user's input, the function directs to the respective operation by calling other functions (`create()`, `read()`, `update()`, `delete()`) and passing the necessary parameters to them.\n",
        "    - For creating, reading, and updating operations, it uses the current state of `product_details`, `sales_data`, and `product_descriptions` as arguments.\n",
        "    - For the delete operation, it also passes the *main_folder* path to specify where the files related to the deleted product should be removed from.\n",
        "  - Upon choosing to exit (option 5), it calls a *dump_data()* function to persist the latest state of the product data to files within the *main_folder* before exiting the program.\n",
        "- The function loops continuously, allowing the user to perform multiple operations until the exit option is selected.\n",
        "- The function ensures robust user interaction by handling invalid choices and guiding the user back to the menu options.\n",
        "- Usage:\n",
        "  - The function is designed as the central hub for a product data management system, providing a user-friendly command-line interface for performing CRUD operations on product data. It integrates file handling for data persistence, ensuring that changes are saved and can be reloaded in future sessions.\n"
      ],
      "metadata": {
        "id": "b3Vm7wGJAtuo"
      }
    },
    {
      "cell_type": "markdown",
      "source": [
        "### Recommendations\n",
        "- Provide the data description and requirements to ChatGPT along with the libraries that you are using and ask it to generate code for the function.\n",
        "- If you get stuck somewhere, you can ask ChatGPT to explain the code to you and you can make edits as required."
      ],
      "metadata": {
        "id": "dvuc2ZfHA2r6"
      }
    },
    {
      "cell_type": "code",
      "source": [
        "def user_menu(main_folder):\n",
        "    # Load existing product data\n",
        "    product_details, sales_data, product_descriptions = load_data(main_folder)\n",
        "\n",
        "    # Main menu loop\n",
        "    while True:\n",
        "        # Display menu options\n",
        "        print(\"\\n=== Product Data Management ===\")\n",
        "        print(\"1. Create new product data\")\n",
        "        print(\"2. Read existing data\")\n",
        "        print(\"3. Update data\")\n",
        "        print(\"4. Delete data\")\n",
        "        print(\"5. Exit\")\n",
        "\n",
        "        # Get user choice\n",
        "        choice = input(\"Enter your choice (1-5): \")\n",
        "\n",
        "        # Perform action based on user choice\n",
        "        if choice == '1':\n",
        "            product_details, sales_data, product_descriptions = create(product_details, sales_data, product_descriptions)\n",
        "        elif choice == '2':\n",
        "            read(product_details, sales_data, product_descriptions)\n",
        "        elif choice == '3':\n",
        "            update(product_details, sales_data, product_descriptions)\n",
        "        elif choice == '4':\n",
        "            product_details, sales_data, product_descriptions = delete(product_details, sales_data, product_descriptions, main_folder)\n",
        "        elif choice == '5':\n",
        "            # Save data before exiting\n",
        "            dump_data(product_details, sales_data, product_descriptions, main_folder)\n",
        "            print(\"Exiting the program. Goodbye!\")\n",
        "            break\n",
        "        else:\n",
        "            print(\"Invalid choice. Please enter a number between 1 and 5.\")\n",
        "\n",
        "\n"
      ],
      "metadata": {
        "id": "3KWsmOSwfG6Y"
      },
      "execution_count": 49,
      "outputs": []
    },
    {
      "cell_type": "markdown",
      "source": [
        "Check your code here."
      ],
      "metadata": {
        "id": "FECddsr3DDe3"
      }
    },
    {
      "cell_type": "code",
      "source": [],
      "metadata": {
        "id": "1geiXwdRDD2l"
      },
      "execution_count": null,
      "outputs": []
    },
    {
      "cell_type": "markdown",
      "source": [
        "### Checklist\n",
        "- Defined the `user_menu()` function with the specified parameter for the main folder location\n",
        "- Loaded existing product data (`product_details`, `sales_data`, `product_descriptions`) from the specified main folder using a `load_data()` function at the start\n",
        "- Displayed a user-friendly menu that listed all possible operations: Create, Read, Update, Delete, and Exit\n",
        "- Processed user input to navigate through the menu options, calling the relevant function (`create()`, `read()`, `update()`, `delete()`) based on the selection and updated the product data accordingly. If \"Exit\" was selected, saved the current state of the product data into the main folder and exited the program\n",
        "- Ensured robust input validation, handling invalid choices by displaying an error message and prompting the user again\n",
        "- Before exiting the program, ensured data persistence by saving the updated product data to the specified main folder\n",
        "- Maintained the integrity of the folder structure during the function's operation to ensure consistency for future use\n"
      ],
      "metadata": {
        "id": "0jORXEqHBNtz"
      }
    },
    {
      "cell_type": "code",
      "source": [
        "# Sample usage\n",
        "main_folder = \"/content/mainfolder\"\n",
        "user_menu(main_folder)"
      ],
      "metadata": {
        "id": "Dq7kPDNyCdIC",
        "colab": {
          "base_uri": "https://localhost:8080/"
        },
        "outputId": "37d3a4a5-6825-4ad0-f71e-a16a5e7a3ff6"
      },
      "execution_count": null,
      "outputs": [
        {
          "output_type": "stream",
          "name": "stdout",
          "text": [
            "\n",
            "=== Product Data Management ===\n",
            "1. Create new product data\n",
            "2. Read existing data\n",
            "3. Update data\n",
            "4. Delete data\n",
            "5. Exit\n"
          ]
        }
      ]
    }
  ],
  "metadata": {
    "colab": {
      "provenance": []
    },
    "kernelspec": {
      "display_name": "Python 3",
      "name": "python3"
    },
    "language_info": {
      "name": "python"
    }
  },
  "nbformat": 4,
  "nbformat_minor": 0
}